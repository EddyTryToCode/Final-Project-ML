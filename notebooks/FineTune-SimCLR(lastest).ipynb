{
 "cells": [
  {
   "cell_type": "markdown",
   "metadata": {},
   "source": [
    "# **FINE TUNE SIM-CLR MODEL TO SOLVE ISIC2018 TASK 3 WITH UNSUPERSIVED AND SEMI-SUPERVISED**"
   ]
  },
  {
   "cell_type": "markdown",
   "metadata": {},
   "source": [
    "## CELL 1: IMPORTS LIBRARY AND SETTING PATH TO DATA  "
   ]
  },
  {
   "cell_type": "code",
   "execution_count": 30,
   "metadata": {},
   "outputs": [],
   "source": [
    "\n",
    "import os, time, copy, random\n",
    "import numpy as np, pandas as pd\n",
    "from PIL import Image\n",
    "import torch\n",
    "import torch.nn as nn\n",
    "import torch.nn.functional as F\n",
    "from torch.utils.data import Dataset, DataLoader, WeightedRandomSampler\n",
    "from torch.optim import AdamW\n",
    "from torchvision import transforms, models\n",
    "from tqdm.notebook import tqdm\n",
    "from sklearn.metrics import accuracy_score, confusion_matrix, classification_report\n",
    "import matplotlib.pyplot as plt; plt.ion()\n",
    "\n",
    "# reproducibility\n",
    "seed = 42\n",
    "random.seed(seed); np.random.seed(seed); torch.manual_seed(seed); torch.cuda.manual_seed_all(seed)\n",
    "device = torch.device(\"cuda\" if torch.cuda.is_available() else \"cpu\")\n",
    "\n",
    "# paths & labels\n",
    "TRAIN_LAB_CSV   = \"../data/isic2018/labels/train_labeled_idx.csv\"\n",
    "TRAIN_UNLAB_CSV = \"../data/isic2018/labels/train_unlabeled.csv\"\n",
    "VAL_CSV         = \"../data/isic2018/labels/val_idx.csv\"\n",
    "TEST_CSV        = \"../data/isic2018/labels/test_idx.csv\"\n",
    "TRAIN_DIR, VAL_DIR, TEST_DIR = \"../data/isic2018/train\", \"../data/isic2018/val\", \"../data/isic2018/test\"\n",
    "label_cols = [\"MEL\",\"NV\",\"BCC\",\"AKIEC\",\"BKL\",\"DF\",\"VASC\"]\n",
    "num_classes = len(label_cols)\n",
    "CKPT_DIR = \"../checkpoints\"; os.makedirs(CKPT_DIR, exist_ok=True)\n"
   ]
  },
  {
   "cell_type": "markdown",
   "metadata": {},
   "source": [
    "## CELL 2: DATASET CLASSES + AUGMENTATIONS "
   ]
  },
  {
   "cell_type": "code",
   "execution_count": 31,
   "metadata": {},
   "outputs": [],
   "source": [
    "\n",
    "import os\n",
    "from PIL import Image\n",
    "import pandas as pd\n",
    "import torch\n",
    "from torch.utils.data import Dataset\n",
    "from torchvision import transforms\n",
    "\n",
    "# --- 2.1) Transforms ---\n",
    "train_tf = transforms.Compose([\n",
    "    transforms.RandomResizedCrop(224),\n",
    "    transforms.RandomHorizontalFlip(),\n",
    "    transforms.RandomVerticalFlip(),\n",
    "    transforms.ColorJitter(0.4,0.4,0.4,0.1),\n",
    "    transforms.ToTensor(),\n",
    "    transforms.Normalize([0.485,0.456,0.406],\n",
    "                         [0.229,0.224,0.225]),\n",
    "])\n",
    "val_tf = transforms.Compose([\n",
    "    transforms.Resize(256),\n",
    "    transforms.CenterCrop(224),\n",
    "    transforms.ToTensor(),\n",
    "    transforms.Normalize([0.485,0.456,0.406],\n",
    "                         [0.229,0.224,0.225]),\n",
    "])\n",
    "weak_tf = transforms.Compose([\n",
    "    transforms.RandomResizedCrop(224),\n",
    "    transforms.RandomHorizontalFlip(),\n",
    "    transforms.ToTensor(),\n",
    "    transforms.Normalize([0.485,0.456,0.406],\n",
    "                         [0.229,0.224,0.225]),\n",
    "])\n",
    "strong_tf = transforms.Compose([\n",
    "    transforms.RandomResizedCrop(224),\n",
    "    transforms.RandomApply([transforms.ColorJitter(0.5,0.5,0.5,0.2)], p=0.8),\n",
    "    transforms.RandomGrayscale(p=0.2),\n",
    "    transforms.RandomHorizontalFlip(),\n",
    "    transforms.ToTensor(),\n",
    "    transforms.Normalize([0.485,0.456,0.406],\n",
    "                         [0.229,0.224,0.225]),\n",
    "])\n",
    "\n",
    "# --- 2.2) Labeled-only dataset ---\n",
    "class ISICClassificationDataset(Dataset):\n",
    "    def __init__(self, csv_file, image_dir, transform):\n",
    "        self.df = pd.read_csv(csv_file)\n",
    "        assert {'image','label_idx'}.issubset(self.df.columns), \\\n",
    "               \"CSV cần có cột 'image' và 'label_idx'\"\n",
    "        self.image_dir = image_dir\n",
    "        self.transform = transform\n",
    "\n",
    "    def __len__(self):\n",
    "        return len(self.df)\n",
    "\n",
    "    def __getitem__(self, idx):\n",
    "        row = self.df.iloc[idx]\n",
    "        img_path = os.path.join(self.image_dir, row['image'] + \".jpg\")\n",
    "        img = Image.open(img_path).convert('RGB')\n",
    "        img = self.transform(img)\n",
    "        return img, int(row['label_idx'])\n",
    "\n",
    "\n",
    "# --- 2.3) FixMatch dataset ---\n",
    "class FixMatchDataset(Dataset):\n",
    "    def __init__(self,\n",
    "                 labeled_csv,\n",
    "                 unlabeled_csv,\n",
    "                 image_dir,\n",
    "                 weak_tf,\n",
    "                 strong_tf):\n",
    "        # labeled CSV: has columns ['image','label_idx']\n",
    "        self.df_lab = pd.read_csv(labeled_csv)\n",
    "        assert {'image','label_idx'}.issubset(self.df_lab.columns)\n",
    "\n",
    "        # unlabeled CSV: must have a header 'file' listing filenames WITHOUT path\n",
    "        df_u = pd.read_csv(unlabeled_csv)\n",
    "        if 'file' not in df_u.columns:\n",
    "            raise ValueError(\"train_unlabeled.csv phải có cột 'file'\")\n",
    "        # drop any accidental header row in data\n",
    "        df_u = df_u[df_u['file'] != 'file']\n",
    "        self.df_unl = df_u.reset_index(drop=True)\n",
    "\n",
    "        self.image_dir = image_dir\n",
    "        self.weak_tf = weak_tf\n",
    "        self.strong_tf = strong_tf\n",
    "\n",
    "    def __len__(self):\n",
    "        # đảm bảo không thiếu unlabeled\n",
    "        return max(len(self.df_lab), len(self.df_unl))\n",
    "\n",
    "    def __getitem__(self, idx):\n",
    "        # — supervised —\n",
    "        lab = self.df_lab.iloc[idx % len(self.df_lab)]\n",
    "        path_l = os.path.join(self.image_dir, lab['image'] + \".jpg\")\n",
    "        img_l = Image.open(path_l).convert('RGB')\n",
    "        x_l = self.weak_tf(img_l)\n",
    "        y   = int(lab['label_idx'])\n",
    "\n",
    "        # — unsupervised —\n",
    "        fname = self.df_unl.iloc[idx % len(self.df_unl)]['file']\n",
    "        # nếu fname đã có .jpg, giữ nguyên, else thêm đuổi\n",
    "        if fname.lower().endswith('.jpg'):\n",
    "            path_u = os.path.join(self.image_dir, os.path.basename(fname))\n",
    "        else:\n",
    "            path_u = os.path.join(self.image_dir, fname + \".jpg\")\n",
    "\n",
    "        img_u = Image.open(path_u).convert('RGB')\n",
    "        x_w = self.weak_tf(img_u)\n",
    "        x_s = self.strong_tf(img_u)\n",
    "\n",
    "        return x_l, y, x_w, x_s\n",
    "\n",
    "# --- 2.4) Tạo DataLoader ---\n",
    "from torch.utils.data import DataLoader\n",
    "\n",
    "l_loader = DataLoader(\n",
    "    FixMatchDataset(\n",
    "        labeled_csv   = TRAIN_LAB_CSV,\n",
    "        unlabeled_csv = TRAIN_UNLAB_CSV,\n",
    "        image_dir     = TRAIN_DIR,\n",
    "        weak_tf       = weak_tf,\n",
    "        strong_tf     = strong_tf\n",
    "    ),\n",
    "    batch_size=32, shuffle=True, num_workers=0,\n",
    "    pin_memory=True, drop_last=True\n",
    ")\n",
    "\n",
    "\n",
    "val_loader = DataLoader(\n",
    "    ISICClassificationDataset(VAL_CSV, VAL_DIR, transform=val_tf),\n",
    "    batch_size=32, shuffle=False, num_workers=0, pin_memory=True\n",
    ")\n",
    "\n",
    "test_loader = DataLoader(\n",
    "    ISICClassificationDataset(TEST_CSV, TEST_DIR, transform=val_tf),\n",
    "    batch_size=32, shuffle=False, num_workers=0, pin_memory=True\n",
    ")\n"
   ]
  },
  {
   "cell_type": "markdown",
   "metadata": {},
   "source": [
    "## CELL 3: LOAD SIMCLR-PRETRAINED ENCODER (RESNET18 BACKBONE)"
   ]
  },
  {
   "cell_type": "code",
   "execution_count": 32,
   "metadata": {},
   "outputs": [
    {
     "name": "stderr",
     "output_type": "stream",
     "text": [
      "c:\\Users\\user\\miniconda3\\envs\\MLF-CoDA-Project\\Lib\\site-packages\\torchvision\\models\\_utils.py:208: UserWarning: The parameter 'pretrained' is deprecated since 0.13 and may be removed in the future, please use 'weights' instead.\n",
      "  warnings.warn(\n",
      "c:\\Users\\user\\miniconda3\\envs\\MLF-CoDA-Project\\Lib\\site-packages\\torchvision\\models\\_utils.py:223: UserWarning: Arguments other than a weight enum or `None` for 'weights' are deprecated since 0.13 and may be removed in the future. The current behavior is equivalent to passing `weights=None`.\n",
      "  warnings.warn(msg)\n",
      "C:\\Users\\user\\AppData\\Local\\Temp\\ipykernel_13640\\4213089487.py:5: FutureWarning: You are using `torch.load` with `weights_only=False` (the current default value), which uses the default pickle module implicitly. It is possible to construct malicious pickle data which will execute arbitrary code during unpickling (See https://github.com/pytorch/pytorch/blob/main/SECURITY.md#untrusted-models for more details). In a future release, the default value for `weights_only` will be flipped to `True`. This limits the functions that could be executed during unpickling. Arbitrary objects will no longer be allowed to be loaded via this mode unless they are explicitly allowlisted by the user via `torch.serialization.add_safe_globals`. We recommend you start setting `weights_only=True` for any use case where you don't have full control of the loaded file. Please open an issue on GitHub for any issues related to this experimental feature.\n",
      "  ckpt = torch.load(\"../checkpoints/simclr_epoch100.pth\", map_location='cpu')\n"
     ]
    }
   ],
   "source": [
    "\n",
    "backbone = models.resnet18(pretrained=False)\n",
    "backbone.fc = nn.Identity()\n",
    "# assume checkpoint format dict {'model_state_dict':...}\n",
    "ckpt = torch.load(\"../checkpoints/simclr_epoch100.pth\", map_location='cpu')\n",
    "state = ckpt.get('model_state_dict', ckpt)\n",
    "# strip \"encoder.\" prefix if present\n",
    "newst = {k.replace(\"encoder.\",\"\"):v for k,v in state.items() if k.startswith(\"encoder.\")}\n",
    "backbone.load_state_dict(newst, strict=True)\n",
    "encoder = backbone.to(device).eval()\n"
   ]
  },
  {
   "cell_type": "markdown",
   "metadata": {},
   "source": [
    "## CELL 4: BUILD UP FIXMATCH + EMA MODEL AND DATALOADERS"
   ]
  },
  {
   "cell_type": "code",
   "execution_count": 33,
   "metadata": {},
   "outputs": [],
   "source": [
    "\n",
    "class FixMatchModel(nn.Module):\n",
    "    def __init__(self, encoder, num_classes):\n",
    "        super().__init__()\n",
    "        self.encoder = encoder\n",
    "        self.head = nn.Linear(512, num_classes)\n",
    "    def forward(self,x):\n",
    "        f = self.encoder(x)\n",
    "        return self.head(f)\n",
    "\n",
    "student = FixMatchModel(encoder, num_classes).to(device)\n",
    "teacher = copy.deepcopy(student).to(device)\n",
    "for p in teacher.parameters(): p.requires_grad_(False)\n",
    "\n",
    "# DataLoaders\n",
    "l_ds = FixMatchDataset(TRAIN_LAB_CSV, TRAIN_UNLAB_CSV, TRAIN_DIR, weak_tf, strong_tf)\n",
    "batch_size=32\n",
    "l_loader = DataLoader(l_ds, batch_size=batch_size, shuffle=True, num_workers=0, drop_last=True)\n",
    "# we only need (weak, strong) from unlabeled part:\n",
    "u_loader = DataLoader(l_ds, batch_size=batch_size, shuffle=True, num_workers=0, drop_last=True)\n",
    "\n",
    "val_ds = ISICClassificationDataset(VAL_CSV, VAL_DIR, val_tf)\n",
    "val_loader = DataLoader(val_ds, batch_size=32, shuffle=False, num_workers=0)\n"
   ]
  },
  {
   "cell_type": "markdown",
   "metadata": {},
   "source": [
    "## CELL 5: SEMI-SUPERVISED LOOP WITH FIXMATCH + MIXUP + LABEL SMOOTHING + RAMP-UP + ONECYCLELR + EMA + TOP-3 CHECKPOINS"
   ]
  },
  {
   "cell_type": "code",
   "execution_count": 34,
   "metadata": {},
   "outputs": [
    {
     "data": {
      "application/vnd.jupyter.widget-view+json": {
       "model_id": "e3f7ba213e3c4254b3d8262d47a9ab6b",
       "version_major": 2,
       "version_minor": 0
      },
      "text/plain": [
       "Epoch 1/30:   0%|          | 0/281 [00:00<?, ?it/s]"
      ]
     },
     "metadata": {},
     "output_type": "display_data"
    },
    {
     "name": "stdout",
     "output_type": "stream",
     "text": [
      "Epoch 01 → loss = 1.1903, val_acc = 0.6736\n"
     ]
    },
    {
     "data": {
      "application/vnd.jupyter.widget-view+json": {
       "model_id": "c8b6b5563f80490d9e91333ba937014e",
       "version_major": 2,
       "version_minor": 0
      },
      "text/plain": [
       "Epoch 2/30:   0%|          | 0/281 [00:00<?, ?it/s]"
      ]
     },
     "metadata": {},
     "output_type": "display_data"
    },
    {
     "name": "stdout",
     "output_type": "stream",
     "text": [
      "Epoch 02 → loss = 1.2865, val_acc = 0.7047\n"
     ]
    },
    {
     "data": {
      "application/vnd.jupyter.widget-view+json": {
       "model_id": "792de57bc85f426dadfdc764158d73c8",
       "version_major": 2,
       "version_minor": 0
      },
      "text/plain": [
       "Epoch 3/30:   0%|          | 0/281 [00:00<?, ?it/s]"
      ]
     },
     "metadata": {},
     "output_type": "display_data"
    },
    {
     "name": "stdout",
     "output_type": "stream",
     "text": [
      "Epoch 03 → loss = 0.8369, val_acc = 0.7150\n"
     ]
    },
    {
     "data": {
      "application/vnd.jupyter.widget-view+json": {
       "model_id": "6bbcca2c5fa847cda3f740155ecce9b3",
       "version_major": 2,
       "version_minor": 0
      },
      "text/plain": [
       "Epoch 4/30:   0%|          | 0/281 [00:00<?, ?it/s]"
      ]
     },
     "metadata": {},
     "output_type": "display_data"
    },
    {
     "name": "stdout",
     "output_type": "stream",
     "text": [
      "Epoch 04 → loss = 1.1183, val_acc = 0.7358\n"
     ]
    },
    {
     "data": {
      "application/vnd.jupyter.widget-view+json": {
       "model_id": "5d581ed090de4c18acb34c1264bc6537",
       "version_major": 2,
       "version_minor": 0
      },
      "text/plain": [
       "Epoch 5/30:   0%|          | 0/281 [00:00<?, ?it/s]"
      ]
     },
     "metadata": {},
     "output_type": "display_data"
    },
    {
     "name": "stdout",
     "output_type": "stream",
     "text": [
      "Epoch 05 → loss = 0.8746, val_acc = 0.7358\n"
     ]
    },
    {
     "data": {
      "application/vnd.jupyter.widget-view+json": {
       "model_id": "70fd290a0220473e8e11e4258bf6bd43",
       "version_major": 2,
       "version_minor": 0
      },
      "text/plain": [
       "Epoch 6/30:   0%|          | 0/281 [00:00<?, ?it/s]"
      ]
     },
     "metadata": {},
     "output_type": "display_data"
    },
    {
     "name": "stdout",
     "output_type": "stream",
     "text": [
      "Epoch 06 → loss = 1.0980, val_acc = 0.7617\n"
     ]
    },
    {
     "data": {
      "application/vnd.jupyter.widget-view+json": {
       "model_id": "fd635db75afb4897a665990edb041e1d",
       "version_major": 2,
       "version_minor": 0
      },
      "text/plain": [
       "Epoch 7/30:   0%|          | 0/281 [00:00<?, ?it/s]"
      ]
     },
     "metadata": {},
     "output_type": "display_data"
    },
    {
     "name": "stdout",
     "output_type": "stream",
     "text": [
      "Epoch 07 → loss = 1.0549, val_acc = 0.7668\n"
     ]
    },
    {
     "data": {
      "application/vnd.jupyter.widget-view+json": {
       "model_id": "1531c35f341b4b9b80334bcee772addb",
       "version_major": 2,
       "version_minor": 0
      },
      "text/plain": [
       "Epoch 8/30:   0%|          | 0/281 [00:00<?, ?it/s]"
      ]
     },
     "metadata": {},
     "output_type": "display_data"
    },
    {
     "name": "stdout",
     "output_type": "stream",
     "text": [
      "Epoch 08 → loss = 0.7839, val_acc = 0.7254\n"
     ]
    },
    {
     "data": {
      "application/vnd.jupyter.widget-view+json": {
       "model_id": "c00231ff22c3439da6083383ecaa7754",
       "version_major": 2,
       "version_minor": 0
      },
      "text/plain": [
       "Epoch 9/30:   0%|          | 0/281 [00:00<?, ?it/s]"
      ]
     },
     "metadata": {},
     "output_type": "display_data"
    },
    {
     "name": "stdout",
     "output_type": "stream",
     "text": [
      "Epoch 09 → loss = 0.9564, val_acc = 0.7720\n"
     ]
    },
    {
     "data": {
      "application/vnd.jupyter.widget-view+json": {
       "model_id": "840303e4cc104f17b5352560bf50c0c6",
       "version_major": 2,
       "version_minor": 0
      },
      "text/plain": [
       "Epoch 10/30:   0%|          | 0/281 [00:00<?, ?it/s]"
      ]
     },
     "metadata": {},
     "output_type": "display_data"
    },
    {
     "name": "stdout",
     "output_type": "stream",
     "text": [
      "Epoch 10 → loss = 0.7256, val_acc = 0.7461\n"
     ]
    },
    {
     "data": {
      "application/vnd.jupyter.widget-view+json": {
       "model_id": "9c441f83108f49ca916e54cee8aaa7b5",
       "version_major": 2,
       "version_minor": 0
      },
      "text/plain": [
       "Epoch 11/30:   0%|          | 0/281 [00:00<?, ?it/s]"
      ]
     },
     "metadata": {},
     "output_type": "display_data"
    },
    {
     "name": "stdout",
     "output_type": "stream",
     "text": [
      "Epoch 11 → loss = 0.7087, val_acc = 0.7617\n"
     ]
    },
    {
     "data": {
      "application/vnd.jupyter.widget-view+json": {
       "model_id": "a0d454e7e99246f599d3bbf6c88321ca",
       "version_major": 2,
       "version_minor": 0
      },
      "text/plain": [
       "Epoch 12/30:   0%|          | 0/281 [00:00<?, ?it/s]"
      ]
     },
     "metadata": {},
     "output_type": "display_data"
    },
    {
     "name": "stdout",
     "output_type": "stream",
     "text": [
      "Epoch 12 → loss = 1.0413, val_acc = 0.7358\n"
     ]
    },
    {
     "data": {
      "application/vnd.jupyter.widget-view+json": {
       "model_id": "84414cd2a3f24cc3b152cd9027bce5db",
       "version_major": 2,
       "version_minor": 0
      },
      "text/plain": [
       "Epoch 13/30:   0%|          | 0/281 [00:00<?, ?it/s]"
      ]
     },
     "metadata": {},
     "output_type": "display_data"
    },
    {
     "name": "stdout",
     "output_type": "stream",
     "text": [
      "Epoch 13 → loss = 0.7659, val_acc = 0.7513\n"
     ]
    },
    {
     "data": {
      "application/vnd.jupyter.widget-view+json": {
       "model_id": "7cc61ba82af8407aab651fe341ee72c5",
       "version_major": 2,
       "version_minor": 0
      },
      "text/plain": [
       "Epoch 14/30:   0%|          | 0/281 [00:00<?, ?it/s]"
      ]
     },
     "metadata": {},
     "output_type": "display_data"
    },
    {
     "name": "stdout",
     "output_type": "stream",
     "text": [
      "Epoch 14 → loss = 0.7544, val_acc = 0.7565\n"
     ]
    },
    {
     "data": {
      "application/vnd.jupyter.widget-view+json": {
       "model_id": "a9db12e148a142c096bef02fe24d1458",
       "version_major": 2,
       "version_minor": 0
      },
      "text/plain": [
       "Epoch 15/30:   0%|          | 0/281 [00:00<?, ?it/s]"
      ]
     },
     "metadata": {},
     "output_type": "display_data"
    },
    {
     "name": "stdout",
     "output_type": "stream",
     "text": [
      "Epoch 15 → loss = 1.0402, val_acc = 0.7772\n"
     ]
    },
    {
     "data": {
      "application/vnd.jupyter.widget-view+json": {
       "model_id": "89cb15df4bd94fb7b2f45d6bc353b62d",
       "version_major": 2,
       "version_minor": 0
      },
      "text/plain": [
       "Epoch 16/30:   0%|          | 0/281 [00:00<?, ?it/s]"
      ]
     },
     "metadata": {},
     "output_type": "display_data"
    },
    {
     "name": "stdout",
     "output_type": "stream",
     "text": [
      "Epoch 16 → loss = 0.9293, val_acc = 0.7254\n"
     ]
    },
    {
     "data": {
      "application/vnd.jupyter.widget-view+json": {
       "model_id": "38a626c32ec049a4b5df7f2882a743d3",
       "version_major": 2,
       "version_minor": 0
      },
      "text/plain": [
       "Epoch 17/30:   0%|          | 0/281 [00:00<?, ?it/s]"
      ]
     },
     "metadata": {},
     "output_type": "display_data"
    },
    {
     "name": "stdout",
     "output_type": "stream",
     "text": [
      "Epoch 17 → loss = 0.6431, val_acc = 0.7617\n"
     ]
    },
    {
     "data": {
      "application/vnd.jupyter.widget-view+json": {
       "model_id": "6c98fdd9299345b6b4dd26abfceae90f",
       "version_major": 2,
       "version_minor": 0
      },
      "text/plain": [
       "Epoch 18/30:   0%|          | 0/281 [00:00<?, ?it/s]"
      ]
     },
     "metadata": {},
     "output_type": "display_data"
    },
    {
     "name": "stdout",
     "output_type": "stream",
     "text": [
      "Epoch 18 → loss = 0.6237, val_acc = 0.7772\n"
     ]
    },
    {
     "data": {
      "application/vnd.jupyter.widget-view+json": {
       "model_id": "2112bca412a44d52aa6959701249b919",
       "version_major": 2,
       "version_minor": 0
      },
      "text/plain": [
       "Epoch 19/30:   0%|          | 0/281 [00:00<?, ?it/s]"
      ]
     },
     "metadata": {},
     "output_type": "display_data"
    },
    {
     "name": "stdout",
     "output_type": "stream",
     "text": [
      "Epoch 19 → loss = 0.9664, val_acc = 0.7409\n"
     ]
    },
    {
     "data": {
      "application/vnd.jupyter.widget-view+json": {
       "model_id": "0dcbb78bb6b64bd3af790e2b123aa2e9",
       "version_major": 2,
       "version_minor": 0
      },
      "text/plain": [
       "Epoch 20/30:   0%|          | 0/281 [00:00<?, ?it/s]"
      ]
     },
     "metadata": {},
     "output_type": "display_data"
    },
    {
     "name": "stdout",
     "output_type": "stream",
     "text": [
      "Epoch 20 → loss = 0.7838, val_acc = 0.7565\n"
     ]
    },
    {
     "data": {
      "application/vnd.jupyter.widget-view+json": {
       "model_id": "abf0021dc5d948fbb48aea5d50d2b459",
       "version_major": 2,
       "version_minor": 0
      },
      "text/plain": [
       "Epoch 21/30:   0%|          | 0/281 [00:00<?, ?it/s]"
      ]
     },
     "metadata": {},
     "output_type": "display_data"
    },
    {
     "name": "stdout",
     "output_type": "stream",
     "text": [
      "Epoch 21 → loss = 1.0444, val_acc = 0.7202\n"
     ]
    },
    {
     "data": {
      "application/vnd.jupyter.widget-view+json": {
       "model_id": "cffc7e39a26544f29ce9212492a7a384",
       "version_major": 2,
       "version_minor": 0
      },
      "text/plain": [
       "Epoch 22/30:   0%|          | 0/281 [00:00<?, ?it/s]"
      ]
     },
     "metadata": {},
     "output_type": "display_data"
    },
    {
     "name": "stdout",
     "output_type": "stream",
     "text": [
      "Epoch 22 → loss = 1.2372, val_acc = 0.7358\n"
     ]
    },
    {
     "data": {
      "application/vnd.jupyter.widget-view+json": {
       "model_id": "851b679c135c4362acf9ad587c57ca2f",
       "version_major": 2,
       "version_minor": 0
      },
      "text/plain": [
       "Epoch 23/30:   0%|          | 0/281 [00:00<?, ?it/s]"
      ]
     },
     "metadata": {},
     "output_type": "display_data"
    },
    {
     "name": "stdout",
     "output_type": "stream",
     "text": [
      "Epoch 23 → loss = 0.5774, val_acc = 0.7565\n"
     ]
    },
    {
     "data": {
      "application/vnd.jupyter.widget-view+json": {
       "model_id": "86185134068b403685c2cf2da3d25c10",
       "version_major": 2,
       "version_minor": 0
      },
      "text/plain": [
       "Epoch 24/30:   0%|          | 0/281 [00:00<?, ?it/s]"
      ]
     },
     "metadata": {},
     "output_type": "display_data"
    },
    {
     "name": "stdout",
     "output_type": "stream",
     "text": [
      "Epoch 24 → loss = 0.5304, val_acc = 0.7720\n"
     ]
    },
    {
     "data": {
      "application/vnd.jupyter.widget-view+json": {
       "model_id": "31cb552b46ca4d358b1ac1ffc3e0cd89",
       "version_major": 2,
       "version_minor": 0
      },
      "text/plain": [
       "Epoch 25/30:   0%|          | 0/281 [00:00<?, ?it/s]"
      ]
     },
     "metadata": {},
     "output_type": "display_data"
    },
    {
     "name": "stdout",
     "output_type": "stream",
     "text": [
      "Epoch 25 → loss = 0.6494, val_acc = 0.7565\n",
      "→ Early stopping after 7 epochs without new best\n"
     ]
    },
    {
     "data": {
      "image/png": "[encoded data removed]",
      "text/plain": [
       "<Figure size 640x480 with 2 Axes>"
      ]
     },
     "metadata": {},
     "output_type": "display_data"
    },
    {
     "name": "stdout",
     "output_type": "stream",
     "text": [
      "✅ Top-3 checkpoints: ['./checkpoints\\\\ep15_acc0.7772.pth', './checkpoints\\\\ep18_acc0.7772.pth', './checkpoints\\\\ep09_acc0.7720.pth']\n"
     ]
    }
   ],
   "source": [
    "\n",
    "import os\n",
    "import numpy as np\n",
    "import torch\n",
    "import torch.nn.functional as F\n",
    "from torch import nn\n",
    "from torch.optim import AdamW\n",
    "from torch.optim.lr_scheduler import OneCycleLR\n",
    "from tqdm.notebook import tqdm\n",
    "from sklearn.metrics import accuracy_score\n",
    "\n",
    "# — Hyperparameters & paths —\n",
    "epochs       = 30\n",
    "ramp_epochs  = 10\n",
    "ema_decay    = 0.999\n",
    "mixup_alpha  = 0.4\n",
    "enc_max_lr   = 1e-4\n",
    "head_max_lr  = 1e-3\n",
    "weight_decay = 1e-4\n",
    "patience     = 7\n",
    "CKPT_DIR     = \"./checkpoints\"\n",
    "os.makedirs(CKPT_DIR, exist_ok=True)\n",
    "\n",
    "# — Loss, optimizer, scheduler —\n",
    "criterion = nn.CrossEntropyLoss(label_smoothing=0.1).to(device)\n",
    "optimizer = AdamW([\n",
    "    {'params': student.encoder.parameters(), 'lr': enc_max_lr},\n",
    "    {'params': student.head.parameters(),    'lr': head_max_lr}\n",
    "], weight_decay=weight_decay)\n",
    "\n",
    "scheduler = OneCycleLR(\n",
    "    optimizer,\n",
    "    max_lr=[enc_max_lr, head_max_lr],\n",
    "    steps_per_epoch=len(l_loader),\n",
    "    epochs=epochs\n",
    ")\n",
    "\n",
    "# — MixUp helpers —\n",
    "def mixup_data(x, y, alpha=1.0):\n",
    "    lam = np.random.beta(alpha, alpha) if alpha > 0 else 1.0\n",
    "    B = x.size(0)\n",
    "    idx = torch.randperm(B, device=x.device)\n",
    "    x_mix = lam * x + (1 - lam) * x[idx]\n",
    "    return x_mix, y, y[idx], lam\n",
    "\n",
    "def mixup_loss(pred, y_a, y_b, lam):\n",
    "    return lam * F.cross_entropy(pred, y_a, label_smoothing=0.1) \\\n",
    "         + (1-lam) * F.cross_entropy(pred, y_b, label_smoothing=0.1)\n",
    "\n",
    "# — Track top-3 checkpoints —\n",
    "best_ckpts = []\n",
    "history = {'train_loss': [], 'val_acc': []}\n",
    "\n",
    "for ep in range(1, epochs+1):\n",
    "    student.train()\n",
    "    total_sup, total_uns = 0.0, 0.0\n",
    "\n",
    "    # ramp-up unsupervised weight\n",
    "    λ_unsup = min(1.0, ep / ramp_epochs)\n",
    "    thr     = 0.80 + 0.15 * (ep / epochs)\n",
    "\n",
    "    unl_iter = iter(u_loader)\n",
    "    pbar     = tqdm(l_loader, desc=f\"Epoch {ep}/{epochs}\", leave=False)\n",
    "\n",
    "    for x_l, y_l, x_w, x_s in pbar:\n",
    "        x_l, y_l = x_l.to(device), y_l.to(device)\n",
    "        x_w, x_s = x_w.to(device), x_s.to(device)\n",
    "\n",
    "        # — MixUp on labeled batch —\n",
    "        x_mix, ya, yb, lam = mixup_data(x_l, y_l, alpha=mixup_alpha)\n",
    "        out_mix = student(x_mix)\n",
    "        loss_sup = mixup_loss(out_mix, ya, yb, lam)\n",
    "\n",
    "        # — Pseudo-label & mask from weakly-aug unlabeled —\n",
    "        with torch.no_grad():\n",
    "            pt     = F.softmax(teacher(x_w), dim=1)\n",
    "            maxp, pseudo = pt.max(1)\n",
    "            mask   = maxp.ge(thr)\n",
    "\n",
    "        # — MixUp on selected unlabeled —\n",
    "        if mask.sum() > 0:\n",
    "            xu = x_s[mask]; yu = pseudo[mask]\n",
    "            # if only one sample, keep batch dim\n",
    "            if xu.dim() == 3:\n",
    "                xu = xu.unsqueeze(0)\n",
    "                yu = yu.unsqueeze(0)\n",
    "            xu_mix, ua, ub, lam_u = mixup_data(xu, yu, alpha=mixup_alpha)\n",
    "            out_u    = student(xu_mix)\n",
    "            loss_uns = mixup_loss(out_u, ua, ub, lam_u)\n",
    "        else:\n",
    "            loss_uns = torch.tensor(0.0, device=device)\n",
    "\n",
    "        # — Total loss, backward, step —\n",
    "        loss = loss_sup + λ_unsup * loss_uns\n",
    "        optimizer.zero_grad()\n",
    "        loss.backward()\n",
    "        optimizer.step()\n",
    "        scheduler.step()\n",
    "\n",
    "        # — EMA teacher ← student —\n",
    "        with torch.no_grad():\n",
    "            for ps, pt in zip(student.parameters(), teacher.parameters()):\n",
    "                pt.data.mul_(ema_decay).add_(ps.data, alpha=1-ema_decay)\n",
    "\n",
    "        total_sup += loss_sup.item()\n",
    "        total_uns += loss_uns.item()\n",
    "        pbar.set_postfix({\n",
    "            \"sup\": f\"{total_sup/(pbar.n+1):.3f}\",\n",
    "            \"uns\": f\"{total_uns/(pbar.n+1):.3f}\"\n",
    "        })\n",
    "\n",
    "    history['train_loss'].append(total_sup / len(l_loader))\n",
    "\n",
    "    # — Validation pass —\n",
    "    student.eval()\n",
    "    all_pred, all_gt = [], []\n",
    "    with torch.no_grad():\n",
    "        for xb, yb in val_loader:\n",
    "            xb = xb.to(device)\n",
    "            out = student(xb)\n",
    "            all_pred += out.argmax(1).cpu().tolist()\n",
    "            all_gt   += yb.tolist()\n",
    "    val_acc = accuracy_score(all_gt, all_pred)\n",
    "    history['val_acc'].append(val_acc)\n",
    "    print(f\"Epoch {ep:02d} → loss = {loss.item():.4f}, val_acc = {val_acc:.4f}\")\n",
    "\n",
    "    # — Save + keep top-3 ckpts —\n",
    "    ckpt = os.path.join(CKPT_DIR, f\"ep{ep:02d}_acc{val_acc:.4f}.pth\")\n",
    "    torch.save(student.state_dict(), ckpt)\n",
    "    best_ckpts.append((val_acc, ckpt))\n",
    "    best_ckpts = sorted(best_ckpts, key=lambda x: x[0], reverse=True)[:3]\n",
    "\n",
    "    # — Early stopping on no new best top-1 —\n",
    "    if val_acc >= best_ckpts[0][0]:\n",
    "        counter = 0\n",
    "    else:\n",
    "        counter += 1\n",
    "        if counter >= patience:\n",
    "            print(f\"→ Early stopping after {patience} epochs without new best\")\n",
    "            break\n",
    "import matplotlib.pyplot as plt\n",
    "\n",
    "# Plot training loss and validation accuracy\n",
    "fig, ax1 = plt.subplots()\n",
    "\n",
    "ax2 = ax1.twinx()\n",
    "ax1.plot(range(1, len(history['train_loss']) + 1), history['train_loss'], 'g-', label='Train Loss')\n",
    "ax2.plot(range(1, len(history['val_acc']) + 1), history['val_acc'], 'b-', label='Val Accuracy')\n",
    "\n",
    "ax1.set_xlabel('Epoch')\n",
    "ax1.set_ylabel('Train Loss', color='g')\n",
    "ax2.set_ylabel('Val Accuracy', color='b')\n",
    "ax1.legend(loc='upper left')\n",
    "ax2.legend(loc='upper right')\n",
    "\n",
    "plt.title('Training Curve')\n",
    "plt.show()\n",
    "\n",
    "print(\"✅ Top-3 checkpoints:\", [p for _, p in best_ckpts])\n",
    "\n"
   ]
  },
  {
   "cell_type": "markdown",
   "metadata": {},
   "source": [
    "## CELL 6: ENSEMBLE + TTA (TEST-TIME AUGUMENTATION)"
   ]
  },
  {
   "cell_type": "code",
   "execution_count": 36,
   "metadata": {},
   "outputs": [
    {
     "name": "stderr",
     "output_type": "stream",
     "text": [
      "C:\\Users\\user\\AppData\\Local\\Temp\\ipykernel_13640\\1548180956.py:17: FutureWarning: You are using `torch.load` with `weights_only=False` (the current default value), which uses the default pickle module implicitly. It is possible to construct malicious pickle data which will execute arbitrary code during unpickling (See https://github.com/pytorch/pytorch/blob/main/SECURITY.md#untrusted-models for more details). In a future release, the default value for `weights_only` will be flipped to `True`. This limits the functions that could be executed during unpickling. Arbitrary objects will no longer be allowed to be loaded via this mode unless they are explicitly allowlisted by the user via `torch.serialization.add_safe_globals`. We recommend you start setting `weights_only=True` for any use case where you don't have full control of the loaded file. Please open an issue on GitHub for any issues related to this experimental feature.\n",
      "  m.load_state_dict(torch.load(ckpt_path, map_location=device))  # Use the path directly\n"
     ]
    },
    {
     "data": {
      "application/vnd.jupyter.widget-view+json": {
       "model_id": "28eb14dd5c1f41e9af68704a128e178c",
       "version_major": 2,
       "version_minor": 0
      },
      "text/plain": [
       "Ensemble TTA Test:   0%|          | 0/1512 [00:00<?, ?it/s]"
      ]
     },
     "metadata": {},
     "output_type": "display_data"
    },
    {
     "name": "stdout",
     "output_type": "stream",
     "text": [
      "\n",
      "=== Ensemble TTA Test Accuracy: 70.30% ===\n",
      "\n",
      "              precision    recall  f1-score   support\n",
      "\n",
      "         MEL       0.54      0.35      0.42       171\n",
      "          NV       0.80      0.92      0.85       909\n",
      "         BCC       0.56      0.44      0.49        93\n",
      "       AKIEC       0.32      0.30      0.31        43\n",
      "         BKL       0.45      0.42      0.44       217\n",
      "          DF       0.36      0.09      0.15        44\n",
      "        VASC       0.71      0.49      0.58        35\n",
      "\n",
      "    accuracy                           0.70      1512\n",
      "   macro avg       0.53      0.43      0.46      1512\n",
      "weighted avg       0.68      0.70      0.68      1512\n",
      "\n"
     ]
    }
   ],
   "source": [
    "\n",
    "import torchvision.transforms as T\n",
    "\n",
    "# 1) define TTA transforms\n",
    "tta_tfs = [\n",
    "    val_tf,\n",
    "    T.Compose([T.RandomHorizontalFlip(1.0), val_tf]),\n",
    "    T.Compose([T.RandomVerticalFlip(1.0),   val_tf]),\n",
    "    T.Compose([T.RandomRotation(30),         val_tf])\n",
    "]\n",
    "\n",
    "# 2) load models\n",
    "models_ens = []\n",
    "for val_acc, ckpt_path in best_ckpts:  # Extract the path from the tuple\n",
    "    m = copy.deepcopy(student)\n",
    "    m.load_state_dict(torch.load(ckpt_path, map_location=device))  # Use the path directly\n",
    "    m.eval()\n",
    "    models_ens.append(m)\n",
    "\n",
    "# 3) iterate test CSV directly\n",
    "test_df = pd.read_csv(TEST_CSV)\n",
    "all_pred, all_gt = [], []\n",
    "\n",
    "for _, row in tqdm(test_df.iterrows(), total=len(test_df), desc=\"Ensemble TTA Test\"):\n",
    "    img_id = row['image']\n",
    "    gt = int(row['label_idx'])\n",
    "    pil = Image.open(os.path.join(TEST_DIR, f\"{img_id}.jpg\")).convert(\"RGB\")\n",
    "\n",
    "    # accumulate per‐model, per‐TTA probs\n",
    "    agg = torch.zeros(len(label_cols), device=device)\n",
    "    with torch.no_grad():\n",
    "        for m in models_ens:\n",
    "            for tfm in tta_tfs:\n",
    "                x = tfm(pil).unsqueeze(0).to(device)\n",
    "                agg += F.softmax(m(x), dim=1).squeeze(0)\n",
    "    # average\n",
    "    agg /= (len(models_ens) * len(tta_tfs))\n",
    "    pred = int(agg.argmax().cpu())\n",
    "    all_pred.append(pred)\n",
    "    all_gt.append(gt)\n",
    "\n",
    "# 4) report\n",
    "test_acc = accuracy_score(all_gt, all_pred)\n",
    "print(f\"\\n=== Ensemble TTA Test Accuracy: {test_acc*100:.2f}% ===\\n\")\n",
    "print(classification_report(all_gt, all_pred, target_names=label_cols))\n"
   ]
  },
  {
   "cell_type": "markdown",
   "metadata": {},
   "source": [
    "## CELL 7: SHOW COFUSION MATRIX OF TEST"
   ]
  },
  {
   "cell_type": "code",
   "execution_count": 37,
   "metadata": {},
   "outputs": [
    {
     "data": {
      "image/png": "[encoded data removed]",
      "text/plain": [
       "<Figure size 1000x800 with 2 Axes>"
      ]
     },
     "metadata": {},
     "output_type": "display_data"
    }
   ],
   "source": [
    "# Confusion matrix\n",
    "cm = confusion_matrix(all_gt, all_pred)\n",
    "import seaborn as sns\n",
    "plt.figure(figsize=(10, 8))\n",
    "sns.heatmap(cm, annot=True, fmt='d', cmap='Blues',\n",
    "            xticklabels=label_cols, yticklabels=label_cols)\n",
    "plt.ylabel('True label')\n",
    "plt.xlabel('Predicted label')\n",
    "plt.title('Confusion Matrix')\n",
    "plt.show()\n"
   ]
  }
 ],
 "metadata": {
  "kernelspec": {
   "display_name": "MLF-CoDA-Project",
   "language": "python",
   "name": "python3"
  },
  "language_info": {
   "codemirror_mode": {
    "name": "ipython",
    "version": 3
   },
   "file_extension": ".py",
   "mimetype": "text/x-python",
   "name": "python",
   "nbconvert_exporter": "python",
   "pygments_lexer": "ipython3",
   "version": "3.12.9"
  }
 },
 "nbformat": 4,
 "nbformat_minor": 2
}
