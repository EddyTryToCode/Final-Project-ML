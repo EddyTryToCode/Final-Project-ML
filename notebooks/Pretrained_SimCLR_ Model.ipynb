{
 "cells": [
  {
   "cell_type": "code",
   "execution_count": 1,
   "metadata": {},
   "outputs": [
    {
     "name": "stdout",
     "output_type": "stream",
     "text": [
      "Device: cuda\n"
     ]
    }
   ],
   "source": [
    "# Cell 1: Imports và thiết lập chung\n",
    "import os\n",
    "import time\n",
    "import math\n",
    "import copy\n",
    "import random\n",
    "import numpy as np\n",
    "import pandas as pd\n",
    "import matplotlib.pyplot as plt\n",
    "import seaborn as sns\n",
    "\n",
    "import torch\n",
    "import torch.nn as nn\n",
    "import torch.nn.functional as F\n",
    "from torch import optim\n",
    "from torch.utils.data import DataLoader, Dataset, Subset, WeightedRandomSampler\n",
    "\n",
    "from torchvision import transforms, models\n",
    "from torchvision.models import resnet18\n",
    "from sklearn.model_selection import KFold\n",
    "from sklearn.metrics import accuracy_score, confusion_matrix, classification_report\n",
    "\n",
    "from PIL import Image\n",
    "from tqdm.notebook import tqdm\n",
    "\n",
    "device = torch.device('cuda' if torch.cuda.is_available() else 'cpu')\n",
    "print(\"Device:\", device)\n"
   ]
  },
  {
   "cell_type": "code",
   "execution_count": 2,
   "metadata": {},
   "outputs": [],
   "source": [
    "# Cell 2 (sửa lại): Dataset cho SimCLR Pretraining, xử lý trường hợp 'file' đã chứa đường dẫn đầy đủ\n",
    "\n",
    "class SimCLRUnlabeledDataset(Dataset):\n",
    "    def __init__(self, csv_file, image_dir, transform):\n",
    "        \"\"\"\n",
    "        csv_file: CSV chứa cột ['file'] (có thể chỉ tên ảnh hoặc đường dẫn tương đối/full đường dẫn tới ảnh)\n",
    "        image_dir: thư mục gốc chứa ảnh (nếu 'file' chỉ là tên ảnh)\n",
    "        transform: torchvision transform để tạo hai view cho SimCLR\n",
    "        \"\"\"\n",
    "        self.df = pd.read_csv(csv_file)\n",
    "        assert 'file' in self.df.columns\n",
    "        self.image_dir = image_dir\n",
    "        self.transform = transform\n",
    "\n",
    "    def __len__(self):\n",
    "        return len(self.df)\n",
    "\n",
    "    def __getitem__(self, idx):\n",
    "        row = self.df.iloc[idx]\n",
    "        file_entry = row['file']\n",
    "        # Nếu 'file' chứa đường dẫn tồn tại, dùng trực tiếp; nếu không, nối với image_dir\n",
    "        if os.path.isfile(file_entry):\n",
    "            img_path = file_entry\n",
    "        else:\n",
    "            img_path = os.path.join(self.image_dir, os.path.basename(file_entry))\n",
    "        if not os.path.isfile(img_path):\n",
    "            raise FileNotFoundError(f\"Image not found: {img_path}\")\n",
    "        img = Image.open(img_path).convert('RGB')\n",
    "        # Tạo hai view augmentation cho SimCLR\n",
    "        xi = self.transform(img)\n",
    "        xj = self.transform(img)\n",
    "        return xi, xj\n"
   ]
  },
  {
   "cell_type": "code",
   "execution_count": 3,
   "metadata": {},
   "outputs": [],
   "source": [
    "# Cell 3: Transforms cho SimCLR Pretraining\n",
    "\n",
    "simclr_transform = transforms.Compose([\n",
    "    transforms.RandomResizedCrop(224, scale=(0.2, 1.0)),\n",
    "    transforms.RandomHorizontalFlip(p=0.5),\n",
    "    transforms.RandomVerticalFlip(p=0.5),\n",
    "    transforms.ColorJitter(brightness=0.8, contrast=0.8, saturation=0.8, hue=0.2),\n",
    "    transforms.RandomGrayscale(p=0.1),\n",
    "    transforms.GaussianBlur(kernel_size=23, sigma=(0.1, 2.0)),\n",
    "    transforms.ToTensor(),\n",
    "    transforms.Normalize(mean=[0.485,0.456,0.406],\n",
    "                         std=[0.229,0.224,0.225])\n",
    "])\n"
   ]
  },
  {
   "cell_type": "code",
   "execution_count": 4,
   "metadata": {},
   "outputs": [
    {
     "name": "stdout",
     "output_type": "stream",
     "text": [
      "Unlabeled dataset size: 9014\n",
      "Batches per epoch: 35\n"
     ]
    }
   ],
   "source": [
    "# Cell 4: Đường dẫn và DataLoader cho Unlabeled 90%\n",
    "\n",
    "UNLABELED_CSV = '../data/isic2018/labels/train_unlabeled.csv'  # chứa cột ['file'] đường dẫn ảnh unlabeled\n",
    "TRAIN_IMG_DIR = '../data/isic2018/train'\n",
    "\n",
    "unlabeled_ds = SimCLRUnlabeledDataset(UNLABELED_CSV, TRAIN_IMG_DIR, transform=simclr_transform)\n",
    "unlabeled_loader = DataLoader(\n",
    "    unlabeled_ds, batch_size=256, shuffle=True,\n",
    "    num_workers=0, pin_memory=True, drop_last=True\n",
    ")\n",
    "\n",
    "print(\"Unlabeled dataset size:\", len(unlabeled_ds))\n",
    "print(\"Batches per epoch:\", len(unlabeled_loader))\n"
   ]
  },
  {
   "cell_type": "code",
   "execution_count": 5,
   "metadata": {},
   "outputs": [],
   "source": [
    "# Cell 5: Định nghĩa mô hình SimCLR (Encoder + Projection Head)\n",
    "\n",
    "class SimCLRModel(nn.Module):\n",
    "    def __init__(self, base_encoder=resnet18, projection_dim=128):\n",
    "        super(SimCLRModel, self).__init__()\n",
    "        # 1) Backbone ResNet18 (loại bỏ fully-connected)\n",
    "        self.encoder = base_encoder(pretrained=False)\n",
    "        self.encoder.fc = nn.Identity()\n",
    "        # 2) Projection head: MLP (512 -> 512 -> projection_dim)\n",
    "        encoder_dim = 512  # ResNet18 feature dim\n",
    "        self.projector = nn.Sequential(\n",
    "            nn.Linear(encoder_dim, encoder_dim),\n",
    "            nn.ReLU(inplace=True),\n",
    "            nn.Linear(encoder_dim, projection_dim)\n",
    "        )\n",
    "\n",
    "    def forward(self, x):\n",
    "        h = self.encoder(x)             # shape (N, 512, 1, 1) hoặc (N,512)\n",
    "        if h.dim() == 4:\n",
    "            h = h.view(h.size(0), -1)\n",
    "        z = self.projector(h)           # shape (N, projection_dim)\n",
    "        return F.normalize(z, dim=1)    # lý tưởng cho contrastive loss\n"
   ]
  },
  {
   "cell_type": "code",
   "execution_count": 6,
   "metadata": {},
   "outputs": [],
   "source": [
    "# Cell 6: NT-Xent Loss (SimCLR Contrastive Loss)\n",
    "\n",
    "class NTXentLoss(nn.Module):\n",
    "    def __init__(self, batch_size, temperature=0.5):\n",
    "        super(NTXentLoss, self).__init__()\n",
    "        self.batch_size = batch_size\n",
    "        self.temperature = temperature\n",
    "        self.similarity_f = nn.CosineSimilarity(dim=2)\n",
    "        self.criterion = nn.CrossEntropyLoss(reduction=\"sum\")\n",
    "\n",
    "        # tạo mask để loại bỏ positive pair và self-pair\n",
    "        self.register_buffer(\"mask\", self._get_correlated_mask(batch_size))\n",
    "\n",
    "    def _get_correlated_mask(self, N):\n",
    "        # N: batch_size (mỗi batch gồm 2N samples)\n",
    "        diag = np.eye(2 * N)\n",
    "        l1 = np.eye((2 * N), 2 * N, k=N)\n",
    "        l2 = np.eye((2 * N), 2 * N, k=-N)\n",
    "        mask = torch.from_numpy((diag + l1 + l2))\n",
    "        mask = (1 - mask).bool()\n",
    "        return mask\n",
    "\n",
    "    def forward(self, zi, zj):\n",
    "        \"\"\"\n",
    "        zi, zj: hai batch embeddings của hai views, shape (N, dim)\n",
    "        \"\"\"\n",
    "        N = self.batch_size\n",
    "        z = torch.cat([zi, zj], dim=0)                            # (2N, dim)\n",
    "        # ma trận cosine similarity (2N x 2N)\n",
    "        sim = self.similarity_f(z.unsqueeze(1), z.unsqueeze(0))   # (2N, 2N)\n",
    "        sim = sim / self.temperature\n",
    "\n",
    "        # mỗi sample có một positive example: index i<->i+N\n",
    "        pos = torch.cat([torch.diag(sim, N), torch.diag(sim, -N)], dim=0).view(2 * N, 1)  # (2N,1)\n",
    "\n",
    "        # tất cả similarity trừ self và positive pair\n",
    "        mask = self.mask[: 2 * N, : 2 * N]\n",
    "        sim_masked = sim.masked_select(mask).view(2 * N, -1)     # (2N, 2N-2)\n",
    "\n",
    "        labels = torch.zeros(2 * N).long().to(zi.device)\n",
    "        logits = torch.cat([pos, sim_masked], dim=1)              # (2N, 1 + 2N-2)\n",
    "        loss = self.criterion(logits, labels)\n",
    "        loss = loss / (2 * N)\n",
    "        return loss\n"
   ]
  },
  {
   "cell_type": "code",
   "execution_count": 7,
   "metadata": {},
   "outputs": [
    {
     "name": "stderr",
     "output_type": "stream",
     "text": [
      "/home/zeus/miniconda3/envs/cloudspace/lib/python3.10/site-packages/torchvision/models/_utils.py:208: UserWarning: The parameter 'pretrained' is deprecated since 0.13 and may be removed in the future, please use 'weights' instead.\n",
      "  warnings.warn(\n",
      "/home/zeus/miniconda3/envs/cloudspace/lib/python3.10/site-packages/torchvision/models/_utils.py:223: UserWarning: Arguments other than a weight enum or `None` for 'weights' are deprecated since 0.13 and may be removed in the future. The current behavior is equivalent to passing `weights=None`.\n",
      "  warnings.warn(msg)\n"
     ]
    },
    {
     "name": "stdout",
     "output_type": "stream",
     "text": [
      "Resumed from checkpoint simclr_epoch65.pth, starting at epoch 66\n"
     ]
    },
    {
     "data": {
      "application/vnd.jupyter.widget-view+json": {
       "model_id": "88c7ae6260494ae582be39de32cb1ea1",
       "version_major": 2,
       "version_minor": 0
      },
      "text/plain": [
       "SimCLR Epoch 66/100:   0%|          | 0/35 [00:00<?, ?it/s]"
      ]
     },
     "metadata": {},
     "output_type": "display_data"
    },
    {
     "name": "stdout",
     "output_type": "stream",
     "text": [
      "Epoch 66 | SimCLR Loss = 4.8035\n"
     ]
    },
    {
     "data": {
      "application/vnd.jupyter.widget-view+json": {
       "model_id": "6e0316dbac9a4f3d894b98be88e772ea",
       "version_major": 2,
       "version_minor": 0
      },
      "text/plain": [
       "SimCLR Epoch 67/100:   0%|          | 0/35 [00:00<?, ?it/s]"
      ]
     },
     "metadata": {},
     "output_type": "display_data"
    },
    {
     "name": "stdout",
     "output_type": "stream",
     "text": [
      "Epoch 67 | SimCLR Loss = 4.7998\n"
     ]
    },
    {
     "data": {
      "application/vnd.jupyter.widget-view+json": {
       "model_id": "0e2a71eef6db4750a727b2f93d43649b",
       "version_major": 2,
       "version_minor": 0
      },
      "text/plain": [
       "SimCLR Epoch 68/100:   0%|          | 0/35 [00:00<?, ?it/s]"
      ]
     },
     "metadata": {},
     "output_type": "display_data"
    },
    {
     "name": "stdout",
     "output_type": "stream",
     "text": [
      "Epoch 68 | SimCLR Loss = 4.8042\n"
     ]
    },
    {
     "data": {
      "application/vnd.jupyter.widget-view+json": {
       "model_id": "755872efd050429593a06d738c4deabd",
       "version_major": 2,
       "version_minor": 0
      },
      "text/plain": [
       "SimCLR Epoch 69/100:   0%|          | 0/35 [00:00<?, ?it/s]"
      ]
     },
     "metadata": {},
     "output_type": "display_data"
    },
    {
     "name": "stdout",
     "output_type": "stream",
     "text": [
      "Epoch 69 | SimCLR Loss = 4.8022\n"
     ]
    },
    {
     "data": {
      "application/vnd.jupyter.widget-view+json": {
       "model_id": "9e2094d52150406789c3ed9f7222ed26",
       "version_major": 2,
       "version_minor": 0
      },
      "text/plain": [
       "SimCLR Epoch 70/100:   0%|          | 0/35 [00:00<?, ?it/s]"
      ]
     },
     "metadata": {},
     "output_type": "display_data"
    },
    {
     "name": "stdout",
     "output_type": "stream",
     "text": [
      "Epoch 70 | SimCLR Loss = 4.7959\n",
      "↳ Saved checkpoint: checkpoints/simclr_pretrain/simclr_epoch70.pth\n"
     ]
    },
    {
     "data": {
      "application/vnd.jupyter.widget-view+json": {
       "model_id": "05e242b553704b8c8debb2bff30f2b2b",
       "version_major": 2,
       "version_minor": 0
      },
      "text/plain": [
       "SimCLR Epoch 71/100:   0%|          | 0/35 [00:00<?, ?it/s]"
      ]
     },
     "metadata": {},
     "output_type": "display_data"
    },
    {
     "name": "stdout",
     "output_type": "stream",
     "text": [
      "Epoch 71 | SimCLR Loss = 4.7927\n"
     ]
    },
    {
     "data": {
      "application/vnd.jupyter.widget-view+json": {
       "model_id": "af62c41b338549f8873e9454981e1f6e",
       "version_major": 2,
       "version_minor": 0
      },
      "text/plain": [
       "SimCLR Epoch 72/100:   0%|          | 0/35 [00:00<?, ?it/s]"
      ]
     },
     "metadata": {},
     "output_type": "display_data"
    },
    {
     "name": "stdout",
     "output_type": "stream",
     "text": [
      "Epoch 72 | SimCLR Loss = 4.7940\n"
     ]
    },
    {
     "data": {
      "application/vnd.jupyter.widget-view+json": {
       "model_id": "b245ad122cd444c09643e00172ad3048",
       "version_major": 2,
       "version_minor": 0
      },
      "text/plain": [
       "SimCLR Epoch 73/100:   0%|          | 0/35 [00:00<?, ?it/s]"
      ]
     },
     "metadata": {},
     "output_type": "display_data"
    },
    {
     "name": "stdout",
     "output_type": "stream",
     "text": [
      "Epoch 73 | SimCLR Loss = 4.7953\n"
     ]
    },
    {
     "data": {
      "application/vnd.jupyter.widget-view+json": {
       "model_id": "3363212af9184d9f8f2139a0662f543f",
       "version_major": 2,
       "version_minor": 0
      },
      "text/plain": [
       "SimCLR Epoch 74/100:   0%|          | 0/35 [00:00<?, ?it/s]"
      ]
     },
     "metadata": {},
     "output_type": "display_data"
    },
    {
     "name": "stdout",
     "output_type": "stream",
     "text": [
      "Epoch 74 | SimCLR Loss = 4.7907\n"
     ]
    },
    {
     "data": {
      "application/vnd.jupyter.widget-view+json": {
       "model_id": "b17a216dee7e4f4bbcd6020e29cae855",
       "version_major": 2,
       "version_minor": 0
      },
      "text/plain": [
       "SimCLR Epoch 75/100:   0%|          | 0/35 [00:00<?, ?it/s]"
      ]
     },
     "metadata": {},
     "output_type": "display_data"
    },
    {
     "name": "stdout",
     "output_type": "stream",
     "text": [
      "Epoch 75 | SimCLR Loss = 4.7865\n",
      "↳ Saved checkpoint: checkpoints/simclr_pretrain/simclr_epoch75.pth\n"
     ]
    },
    {
     "data": {
      "application/vnd.jupyter.widget-view+json": {
       "model_id": "88515cf5917e42148d2425bcb0718350",
       "version_major": 2,
       "version_minor": 0
      },
      "text/plain": [
       "SimCLR Epoch 76/100:   0%|          | 0/35 [00:00<?, ?it/s]"
      ]
     },
     "metadata": {},
     "output_type": "display_data"
    },
    {
     "name": "stdout",
     "output_type": "stream",
     "text": [
      "Epoch 76 | SimCLR Loss = 4.7840\n"
     ]
    },
    {
     "data": {
      "application/vnd.jupyter.widget-view+json": {
       "model_id": "3842e898cc9c48a49bb61b8766a68ce1",
       "version_major": 2,
       "version_minor": 0
      },
      "text/plain": [
       "SimCLR Epoch 77/100:   0%|          | 0/35 [00:00<?, ?it/s]"
      ]
     },
     "metadata": {},
     "output_type": "display_data"
    },
    {
     "name": "stdout",
     "output_type": "stream",
     "text": [
      "Epoch 77 | SimCLR Loss = 4.7856\n"
     ]
    },
    {
     "data": {
      "application/vnd.jupyter.widget-view+json": {
       "model_id": "83b57e60b40f490d856735b92f90d24e",
       "version_major": 2,
       "version_minor": 0
      },
      "text/plain": [
       "SimCLR Epoch 78/100:   0%|          | 0/35 [00:00<?, ?it/s]"
      ]
     },
     "metadata": {},
     "output_type": "display_data"
    },
    {
     "name": "stdout",
     "output_type": "stream",
     "text": [
      "Epoch 78 | SimCLR Loss = 4.7862\n"
     ]
    },
    {
     "data": {
      "application/vnd.jupyter.widget-view+json": {
       "model_id": "737eaf0cdc444aafbcb0cf827eeb31ed",
       "version_major": 2,
       "version_minor": 0
      },
      "text/plain": [
       "SimCLR Epoch 79/100:   0%|          | 0/35 [00:00<?, ?it/s]"
      ]
     },
     "metadata": {},
     "output_type": "display_data"
    },
    {
     "name": "stdout",
     "output_type": "stream",
     "text": [
      "Epoch 79 | SimCLR Loss = 4.7760\n"
     ]
    },
    {
     "data": {
      "application/vnd.jupyter.widget-view+json": {
       "model_id": "99a80199e6a541459d006297381b1ec1",
       "version_major": 2,
       "version_minor": 0
      },
      "text/plain": [
       "SimCLR Epoch 80/100:   0%|          | 0/35 [00:00<?, ?it/s]"
      ]
     },
     "metadata": {},
     "output_type": "display_data"
    },
    {
     "name": "stdout",
     "output_type": "stream",
     "text": [
      "Epoch 80 | SimCLR Loss = 4.7782\n",
      "↳ Saved checkpoint: checkpoints/simclr_pretrain/simclr_epoch80.pth\n"
     ]
    },
    {
     "data": {
      "application/vnd.jupyter.widget-view+json": {
       "model_id": "c3b5756a4a544d2aabafe0e39d688b81",
       "version_major": 2,
       "version_minor": 0
      },
      "text/plain": [
       "SimCLR Epoch 81/100:   0%|          | 0/35 [00:00<?, ?it/s]"
      ]
     },
     "metadata": {},
     "output_type": "display_data"
    },
    {
     "name": "stdout",
     "output_type": "stream",
     "text": [
      "Epoch 81 | SimCLR Loss = 4.7688\n"
     ]
    },
    {
     "data": {
      "application/vnd.jupyter.widget-view+json": {
       "model_id": "391af94d7daf4c678fb70b79b2e64e78",
       "version_major": 2,
       "version_minor": 0
      },
      "text/plain": [
       "SimCLR Epoch 82/100:   0%|          | 0/35 [00:00<?, ?it/s]"
      ]
     },
     "metadata": {},
     "output_type": "display_data"
    },
    {
     "name": "stdout",
     "output_type": "stream",
     "text": [
      "Epoch 82 | SimCLR Loss = 4.7718\n"
     ]
    },
    {
     "data": {
      "application/vnd.jupyter.widget-view+json": {
       "model_id": "2a1476a0b310483685976f5edf54128b",
       "version_major": 2,
       "version_minor": 0
      },
      "text/plain": [
       "SimCLR Epoch 83/100:   0%|          | 0/35 [00:00<?, ?it/s]"
      ]
     },
     "metadata": {},
     "output_type": "display_data"
    },
    {
     "name": "stdout",
     "output_type": "stream",
     "text": [
      "Epoch 83 | SimCLR Loss = 4.7716\n"
     ]
    },
    {
     "data": {
      "application/vnd.jupyter.widget-view+json": {
       "model_id": "55d95a4aec224714a581acfa58884e13",
       "version_major": 2,
       "version_minor": 0
      },
      "text/plain": [
       "SimCLR Epoch 84/100:   0%|          | 0/35 [00:00<?, ?it/s]"
      ]
     },
     "metadata": {},
     "output_type": "display_data"
    },
    {
     "name": "stdout",
     "output_type": "stream",
     "text": [
      "Epoch 84 | SimCLR Loss = 4.7736\n"
     ]
    },
    {
     "data": {
      "application/vnd.jupyter.widget-view+json": {
       "model_id": "6349448aebbb47aa9e52b982cd469339",
       "version_major": 2,
       "version_minor": 0
      },
      "text/plain": [
       "SimCLR Epoch 85/100:   0%|          | 0/35 [00:00<?, ?it/s]"
      ]
     },
     "metadata": {},
     "output_type": "display_data"
    },
    {
     "name": "stdout",
     "output_type": "stream",
     "text": [
      "Epoch 85 | SimCLR Loss = 4.7792\n",
      "↳ Saved checkpoint: checkpoints/simclr_pretrain/simclr_epoch85.pth\n"
     ]
    },
    {
     "data": {
      "application/vnd.jupyter.widget-view+json": {
       "model_id": "3286c5a1f4ae4ea2a76c44bd8fe95458",
       "version_major": 2,
       "version_minor": 0
      },
      "text/plain": [
       "SimCLR Epoch 86/100:   0%|          | 0/35 [00:00<?, ?it/s]"
      ]
     },
     "metadata": {},
     "output_type": "display_data"
    },
    {
     "name": "stdout",
     "output_type": "stream",
     "text": [
      "Epoch 86 | SimCLR Loss = 4.7719\n"
     ]
    },
    {
     "data": {
      "application/vnd.jupyter.widget-view+json": {
       "model_id": "6d6358d5bb8749879bb789db977551fe",
       "version_major": 2,
       "version_minor": 0
      },
      "text/plain": [
       "SimCLR Epoch 87/100:   0%|          | 0/35 [00:00<?, ?it/s]"
      ]
     },
     "metadata": {},
     "output_type": "display_data"
    },
    {
     "name": "stdout",
     "output_type": "stream",
     "text": [
      "Epoch 87 | SimCLR Loss = 4.7768\n"
     ]
    },
    {
     "data": {
      "application/vnd.jupyter.widget-view+json": {
       "model_id": "983e0ff0034746e3aba5062085aed0ab",
       "version_major": 2,
       "version_minor": 0
      },
      "text/plain": [
       "SimCLR Epoch 88/100:   0%|          | 0/35 [00:00<?, ?it/s]"
      ]
     },
     "metadata": {},
     "output_type": "display_data"
    },
    {
     "name": "stdout",
     "output_type": "stream",
     "text": [
      "Epoch 88 | SimCLR Loss = 4.7732\n"
     ]
    },
    {
     "data": {
      "application/vnd.jupyter.widget-view+json": {
       "model_id": "f753fbdec4be4bdab9648c22d6dbff05",
       "version_major": 2,
       "version_minor": 0
      },
      "text/plain": [
       "SimCLR Epoch 89/100:   0%|          | 0/35 [00:00<?, ?it/s]"
      ]
     },
     "metadata": {},
     "output_type": "display_data"
    },
    {
     "name": "stdout",
     "output_type": "stream",
     "text": [
      "Epoch 89 | SimCLR Loss = 4.7721\n"
     ]
    },
    {
     "data": {
      "application/vnd.jupyter.widget-view+json": {
       "model_id": "c5a0d834e87540069abe8134fe521b82",
       "version_major": 2,
       "version_minor": 0
      },
      "text/plain": [
       "SimCLR Epoch 90/100:   0%|          | 0/35 [00:00<?, ?it/s]"
      ]
     },
     "metadata": {},
     "output_type": "display_data"
    },
    {
     "name": "stdout",
     "output_type": "stream",
     "text": [
      "Epoch 90 | SimCLR Loss = 4.7675\n",
      "↳ Saved checkpoint: checkpoints/simclr_pretrain/simclr_epoch90.pth\n"
     ]
    },
    {
     "data": {
      "application/vnd.jupyter.widget-view+json": {
       "model_id": "7cb6ea97b7784de5839d754d3bc17c88",
       "version_major": 2,
       "version_minor": 0
      },
      "text/plain": [
       "SimCLR Epoch 91/100:   0%|          | 0/35 [00:00<?, ?it/s]"
      ]
     },
     "metadata": {},
     "output_type": "display_data"
    },
    {
     "name": "stdout",
     "output_type": "stream",
     "text": [
      "Epoch 91 | SimCLR Loss = 4.7653\n"
     ]
    },
    {
     "data": {
      "application/vnd.jupyter.widget-view+json": {
       "model_id": "eb0dfb60e5da45ba81c86e2997fd36a1",
       "version_major": 2,
       "version_minor": 0
      },
      "text/plain": [
       "SimCLR Epoch 92/100:   0%|          | 0/35 [00:00<?, ?it/s]"
      ]
     },
     "metadata": {},
     "output_type": "display_data"
    },
    {
     "name": "stdout",
     "output_type": "stream",
     "text": [
      "Epoch 92 | SimCLR Loss = 4.7600\n"
     ]
    },
    {
     "data": {
      "application/vnd.jupyter.widget-view+json": {
       "model_id": "e7d2483016774de6bee8d893ef7dbfa8",
       "version_major": 2,
       "version_minor": 0
      },
      "text/plain": [
       "SimCLR Epoch 93/100:   0%|          | 0/35 [00:00<?, ?it/s]"
      ]
     },
     "metadata": {},
     "output_type": "display_data"
    },
    {
     "name": "stdout",
     "output_type": "stream",
     "text": [
      "Epoch 93 | SimCLR Loss = 4.7614\n"
     ]
    },
    {
     "data": {
      "application/vnd.jupyter.widget-view+json": {
       "model_id": "ffca4b75ed4746eeadb84b90dc692fcd",
       "version_major": 2,
       "version_minor": 0
      },
      "text/plain": [
       "SimCLR Epoch 94/100:   0%|          | 0/35 [00:00<?, ?it/s]"
      ]
     },
     "metadata": {},
     "output_type": "display_data"
    },
    {
     "name": "stdout",
     "output_type": "stream",
     "text": [
      "Epoch 94 | SimCLR Loss = 4.7607\n"
     ]
    },
    {
     "data": {
      "application/vnd.jupyter.widget-view+json": {
       "model_id": "692ea261e6074d8aa802a1d63d904fd5",
       "version_major": 2,
       "version_minor": 0
      },
      "text/plain": [
       "SimCLR Epoch 95/100:   0%|          | 0/35 [00:00<?, ?it/s]"
      ]
     },
     "metadata": {},
     "output_type": "display_data"
    },
    {
     "name": "stdout",
     "output_type": "stream",
     "text": [
      "Epoch 95 | SimCLR Loss = 4.7711\n",
      "↳ Saved checkpoint: checkpoints/simclr_pretrain/simclr_epoch95.pth\n"
     ]
    },
    {
     "data": {
      "application/vnd.jupyter.widget-view+json": {
       "model_id": "6c4cf014f2804695bdd3ec824d129a1a",
       "version_major": 2,
       "version_minor": 0
      },
      "text/plain": [
       "SimCLR Epoch 96/100:   0%|          | 0/35 [00:00<?, ?it/s]"
      ]
     },
     "metadata": {},
     "output_type": "display_data"
    },
    {
     "name": "stdout",
     "output_type": "stream",
     "text": [
      "Epoch 96 | SimCLR Loss = 4.7585\n"
     ]
    },
    {
     "data": {
      "application/vnd.jupyter.widget-view+json": {
       "model_id": "7772d4091fd54b11b3f9328d34dcefda",
       "version_major": 2,
       "version_minor": 0
      },
      "text/plain": [
       "SimCLR Epoch 97/100:   0%|          | 0/35 [00:00<?, ?it/s]"
      ]
     },
     "metadata": {},
     "output_type": "display_data"
    },
    {
     "name": "stdout",
     "output_type": "stream",
     "text": [
      "Epoch 97 | SimCLR Loss = 4.7618\n"
     ]
    },
    {
     "data": {
      "application/vnd.jupyter.widget-view+json": {
       "model_id": "845e9210ab8742febe7df737580da87c",
       "version_major": 2,
       "version_minor": 0
      },
      "text/plain": [
       "SimCLR Epoch 98/100:   0%|          | 0/35 [00:00<?, ?it/s]"
      ]
     },
     "metadata": {},
     "output_type": "display_data"
    },
    {
     "name": "stdout",
     "output_type": "stream",
     "text": [
      "Epoch 98 | SimCLR Loss = 4.7602\n"
     ]
    },
    {
     "data": {
      "application/vnd.jupyter.widget-view+json": {
       "model_id": "3d385a8bb71e489e8cb15be457bce275",
       "version_major": 2,
       "version_minor": 0
      },
      "text/plain": [
       "SimCLR Epoch 99/100:   0%|          | 0/35 [00:00<?, ?it/s]"
      ]
     },
     "metadata": {},
     "output_type": "display_data"
    },
    {
     "name": "stdout",
     "output_type": "stream",
     "text": [
      "Epoch 99 | SimCLR Loss = 4.7595\n"
     ]
    },
    {
     "data": {
      "application/vnd.jupyter.widget-view+json": {
       "model_id": "689fa5bb9b9e4f3eb7610656acb1da84",
       "version_major": 2,
       "version_minor": 0
      },
      "text/plain": [
       "SimCLR Epoch 100/100:   0%|          | 0/35 [00:00<?, ?it/s]"
      ]
     },
     "metadata": {},
     "output_type": "display_data"
    },
    {
     "name": "stdout",
     "output_type": "stream",
     "text": [
      "Epoch 100 | SimCLR Loss = 4.7558\n",
      "↳ Saved checkpoint: checkpoints/simclr_pretrain/simclr_epoch100.pth\n"
     ]
    }
   ],
   "source": [
    "# Cell 7: Pretrain SimCLR\n",
    "\n",
    "model_simclr = SimCLRModel(base_encoder=resnet18, projection_dim=128).to(device)\n",
    "optimizer_simclr = optim.AdamW(model_simclr.parameters(), lr=3e-4, weight_decay=1e-4)\n",
    "nt_xent_loss = NTXentLoss(batch_size=256, temperature=0.5).to(device)\n",
    "\n",
    "import os\n",
    "import torch\n",
    "\n",
    "start_epoch = 1\n",
    "num_epochs_pretrain = 100\n",
    "ckpt_dir = 'checkpoints/simclr_pretrain'\n",
    "os.makedirs(ckpt_dir, exist_ok=True)\n",
    "\n",
    "# Nếu có checkpoint gần nhất, load để resume\n",
    "latest_ckpt = None\n",
    "for f in sorted(os.listdir(ckpt_dir)):\n",
    "    if f.startswith('simclr_epoch65') and f.endswith('.pth'):\n",
    "        latest_ckpt = f\n",
    "\n",
    "if latest_ckpt is not None:\n",
    "    ckpt_path = os.path.join(ckpt_dir, latest_ckpt)\n",
    "    ckpt = torch.load(ckpt_path, map_location=device)\n",
    "    model_simclr.load_state_dict(ckpt['model_state_dict'])\n",
    "    optimizer_simclr.load_state_dict(ckpt['optimizer_state_dict'])\n",
    "    if 'scheduler_state_dict' in ckpt:\n",
    "        scheduler.load_state_dict(ckpt['scheduler_state_dict'])\n",
    "    start_epoch = ckpt['epoch'] + 1\n",
    "    print(f\"Resumed from checkpoint {latest_ckpt}, starting at epoch {start_epoch}\")\n",
    "\n",
    "for epoch in range(start_epoch, num_epochs_pretrain + 1):\n",
    "    model_simclr.train()\n",
    "    running_loss = 0.0\n",
    "    pbar = tqdm(unlabeled_loader, desc=f\"SimCLR Epoch {epoch}/{num_epochs_pretrain}\", leave=False)\n",
    "    for xi, xj in pbar:\n",
    "        xi = xi.to(device)\n",
    "        xj = xj.to(device)\n",
    "        zi = model_simclr(xi)\n",
    "        zj = model_simclr(xj)\n",
    "        loss_simclr = nt_xent_loss(zi, zj)\n",
    "\n",
    "        optimizer_simclr.zero_grad()\n",
    "        loss_simclr.backward()\n",
    "        optimizer_simclr.step()\n",
    "        if 'scheduler' in locals():\n",
    "            scheduler.step()\n",
    "\n",
    "        running_loss += loss_simclr.item()\n",
    "        pbar.set_postfix({'loss': f\"{running_loss/(pbar.n+1):.4f}\"})\n",
    "    avg_loss = running_loss / len(unlabeled_loader)\n",
    "    print(f\"Epoch {epoch:02d} | SimCLR Loss = {avg_loss:.4f}\")\n",
    "\n",
    "    # Lưu checkpoint mỗi 20 epoch (cũng ghi luôn epoch hiện tại, optimizer, scheduler)\n",
    "    if epoch % 5 == 0 or epoch == num_epochs_pretrain:\n",
    "        ckpt_path = os.path.join(ckpt_dir, f'simclr_epoch{epoch}.pth')\n",
    "        torch.save({\n",
    "            'epoch': epoch,\n",
    "            'model_state_dict': model_simclr.state_dict(),\n",
    "            'optimizer_state_dict': optimizer_simclr.state_dict(),\n",
    "            # 'scheduler_state_dict': scheduler.state_dict(),  # nếu có dùng scheduler\n",
    "        }, ckpt_path)\n",
    "        print(f\"↳ Saved checkpoint: {ckpt_path}\")"
   ]
  }
 ],
 "metadata": {
  "language_info": {
   "name": "python"
  }
 },
 "nbformat": 4,
 "nbformat_minor": 2
}
