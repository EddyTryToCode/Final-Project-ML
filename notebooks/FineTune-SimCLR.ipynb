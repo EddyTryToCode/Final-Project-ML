{
 "cells": [
  {
   "cell_type": "markdown",
   "metadata": {},
   "source": [
    "# # Fine-tuning SimCLR Encoder trên ISIC 2018 Task 3\n",
    "> Sử dụng encoder pre-train với SimCLR, gắn thêm head phân loại 7 lớp và huấn luyện có giám sát.\n"
   ]
  },
  {
   "cell_type": "code",
   "execution_count": 1,
   "metadata": {},
   "outputs": [
    {
     "name": "stdout",
     "output_type": "stream",
     "text": [
      "Using device: cuda\n"
     ]
    }
   ],
   "source": [
    "# 1. Imports & Setup\n",
    "import os, torch, torch.nn as nn, torch.optim as optim, time\n",
    "from torch.utils.data import Dataset, DataLoader\n",
    "from torchvision import transforms\n",
    "from torchvision.models import resnet18\n",
    "from PIL import Image\n",
    "import pandas as pd\n",
    "from sklearn.metrics import accuracy_score\n",
    "from tqdm.notebook import tqdm\n",
    "\n",
    "device = torch.device(\"cuda\" if torch.cuda.is_available() else \"cpu\")\n",
    "print(\"Using device:\", device)\n"
   ]
  },
  {
   "cell_type": "code",
   "execution_count": 2,
   "metadata": {},
   "outputs": [
    {
     "name": "stdout",
     "output_type": "stream",
     "text": [
      "CPU cores: 16\n"
     ]
    }
   ],
   "source": [
    "print(\"CPU cores:\", os.cpu_count())"
   ]
  },
  {
   "cell_type": "markdown",
   "metadata": {},
   "source": [
    "## 2. Dataset & DataLoader\n"
   ]
  },
  {
   "cell_type": "code",
   "execution_count": 3,
   "metadata": {},
   "outputs": [
    {
     "name": "stdout",
     "output_type": "stream",
     "text": [
      "Train samples: 10015 Val samples: 193\n"
     ]
    }
   ],
   "source": [
    "class ISICClassificationDataset(Dataset):\n",
    "    def __init__(self, csv_file, image_dir, transform=None):\n",
    "        self.df = pd.read_csv(csv_file)\n",
    "        assert 'image' in self.df.columns and 'label_idx' in self.df.columns\n",
    "        self.image_dir = image_dir\n",
    "        self.transform = transform\n",
    "    def __len__(self):\n",
    "        return len(self.df)\n",
    "    def __getitem__(self, idx):\n",
    "        row = self.df.iloc[idx]\n",
    "        path = os.path.join(self.image_dir, row['image'] + '.jpg')\n",
    "        img = Image.open(path).convert('RGB')\n",
    "        if self.transform: img = self.transform(img)\n",
    "        return img, int(row['label_idx'])\n",
    "\n",
    "# strong augmentations\n",
    "mean = [0.485, 0.456, 0.406]\n",
    "std  = [0.229, 0.224, 0.225]\n",
    "train_tf = transforms.Compose([\n",
    "    transforms.RandomResizedCrop(224, scale=(0.6,1.0)),\n",
    "    transforms.RandomHorizontalFlip(),\n",
    "    transforms.RandomVerticalFlip(),\n",
    "    transforms.RandomRotation(30),\n",
    "    transforms.ColorJitter(0.3,0.3,0.3,0.1),\n",
    "    transforms.ToTensor(),\n",
    "    transforms.Normalize(mean, std),\n",
    "])\n",
    "val_tf = transforms.Compose([\n",
    "    transforms.Resize((224,224)),\n",
    "    transforms.ToTensor(),\n",
    "    transforms.Normalize(mean, std),\n",
    "])\n",
    "\n",
    "train_ds = ISICClassificationDataset('../data/isic2018/labels/train_labeled_idx.csv',\n",
    "                                     '../data/isic2018/train', transform=train_tf)\n",
    "val_ds   = ISICClassificationDataset('../data/isic2018/labels/val_idx.csv',\n",
    "                                     '../data/isic2018/val',   transform=val_tf)\n",
    "print(\"Train samples:\", len(train_ds), \"Val samples:\", len(val_ds))\n",
    "\n",
    "train_loader = DataLoader(train_ds, batch_size=32, shuffle=True,\n",
    "                          num_workers=0, pin_memory=True, drop_last=True)\n",
    "val_loader   = DataLoader(val_ds,   batch_size=32, shuffle=False,\n",
    "                          num_workers=0, pin_memory=True)\n"
   ]
  },
  {
   "cell_type": "markdown",
   "metadata": {},
   "source": [
    "## 3. Xây Model Fine-tune\n"
   ]
  },
  {
   "cell_type": "code",
   "execution_count": 4,
   "metadata": {},
   "outputs": [
    {
     "name": "stderr",
     "output_type": "stream",
     "text": [
      "C:\\Users\\user\\AppData\\Local\\Temp\\ipykernel_12076\\1157735339.py:4: FutureWarning: You are using `torch.load` with `weights_only=False` (the current default value), which uses the default pickle module implicitly. It is possible to construct malicious pickle data which will execute arbitrary code during unpickling (See https://github.com/pytorch/pytorch/blob/main/SECURITY.md#untrusted-models for more details). In a future release, the default value for `weights_only` will be flipped to `True`. This limits the functions that could be executed during unpickling. Arbitrary objects will no longer be allowed to be loaded via this mode unless they are explicitly allowlisted by the user via `torch.serialization.add_safe_globals`. We recommend you start setting `weights_only=True` for any use case where you don't have full control of the loaded file. Please open an issue on GitHub for any issues related to this experimental feature.\n",
      "  ckpt = torch.load('../checkpoints/simclr_encoder.pth', map_location='cpu')\n"
     ]
    }
   ],
   "source": [
    "# 3.1 Load pretrained encoder\n",
    "backbone = resnet18(weights=None)\n",
    "backbone.fc = nn.Identity()\n",
    "ckpt = torch.load('../checkpoints/simclr_encoder.pth', map_location='cpu')\n",
    "backbone.load_state_dict(ckpt, strict=False)\n",
    "backbone = backbone.to(device)\n",
    "\n",
    "# 3.2 Unfreeze all layers for full fine-tuning\n",
    "for p in backbone.parameters():\n",
    "    p.requires_grad = True\n",
    "\n",
    "# 3.3 Define classifier head\n",
    "class FineTuneModel(nn.Module):\n",
    "    def __init__(self, encoder, num_classes=7):\n",
    "        super().__init__()\n",
    "        self.encoder = encoder\n",
    "        self.fc = nn.Linear(512, num_classes)\n",
    "    def forward(self, x):\n",
    "        features = self.encoder(x)\n",
    "        return self.fc(features)\n",
    "\n",
    "model = FineTuneModel(backbone).to(device)\n"
   ]
  },
  {
   "cell_type": "markdown",
   "metadata": {},
   "source": [
    "## 4. Training Loop\n"
   ]
  },
  {
   "cell_type": "code",
   "execution_count": 28,
   "metadata": {},
   "outputs": [
    {
     "name": "stderr",
     "output_type": "stream",
     "text": [
      "c:\\Users\\user\\miniconda3\\envs\\MLF-CoDA-Project\\Lib\\site-packages\\torch\\optim\\lr_scheduler.py:62: UserWarning: The verbose parameter is deprecated. Please use get_last_lr() to access the learning rate.\n",
      "  warnings.warn(\n"
     ]
    },
    {
     "data": {
      "application/vnd.jupyter.widget-view+json": {
       "model_id": "fa5a86a216fc407694d3f60089e1b95b",
       "version_major": 2,
       "version_minor": 0
      },
      "text/plain": [
       "Epoch 1/20 [TRAIN]:   0%|          | 0/312 [00:00<?, ?it/s]"
      ]
     },
     "metadata": {},
     "output_type": "display_data"
    },
    {
     "data": {
      "application/vnd.jupyter.widget-view+json": {
       "model_id": "ceb68880ec1b4bd5a4fed043906e1c50",
       "version_major": 2,
       "version_minor": 0
      },
      "text/plain": [
       "Epoch 1/20 [ VAL ]:   0%|          | 0/7 [00:00<?, ?it/s]"
      ]
     },
     "metadata": {},
     "output_type": "display_data"
    },
    {
     "name": "stdout",
     "output_type": "stream",
     "text": [
      "Epoch 01 | time 144.7s | train_loss 0.9547 | val_loss 0.8788 | val_acc 0.7617\n",
      "  ↳ New best model (acc=0.7617) saved\n"
     ]
    },
    {
     "data": {
      "application/vnd.jupyter.widget-view+json": {
       "model_id": "b6720c3ce636413da72e681a523a8c4a",
       "version_major": 2,
       "version_minor": 0
      },
      "text/plain": [
       "Epoch 2/20 [TRAIN]:   0%|          | 0/312 [00:00<?, ?it/s]"
      ]
     },
     "metadata": {},
     "output_type": "display_data"
    },
    {
     "data": {
      "application/vnd.jupyter.widget-view+json": {
       "model_id": "fc1bc581f0604a6fb39db6804f0aae18",
       "version_major": 2,
       "version_minor": 0
      },
      "text/plain": [
       "Epoch 2/20 [ VAL ]:   0%|          | 0/7 [00:00<?, ?it/s]"
      ]
     },
     "metadata": {},
     "output_type": "display_data"
    },
    {
     "name": "stdout",
     "output_type": "stream",
     "text": [
      "Epoch 02 | time 146.2s | train_loss 0.9458 | val_loss 0.8888 | val_acc 0.7824\n",
      "  ↳ New best model (acc=0.7824) saved\n"
     ]
    },
    {
     "data": {
      "application/vnd.jupyter.widget-view+json": {
       "model_id": "99c10094fd4d41d5a636e9adbf95d851",
       "version_major": 2,
       "version_minor": 0
      },
      "text/plain": [
       "Epoch 3/20 [TRAIN]:   0%|          | 0/312 [00:00<?, ?it/s]"
      ]
     },
     "metadata": {},
     "output_type": "display_data"
    },
    {
     "data": {
      "application/vnd.jupyter.widget-view+json": {
       "model_id": "5e39d40d9e9d4992be477fc9b2f8a3d8",
       "version_major": 2,
       "version_minor": 0
      },
      "text/plain": [
       "Epoch 3/20 [ VAL ]:   0%|          | 0/7 [00:00<?, ?it/s]"
      ]
     },
     "metadata": {},
     "output_type": "display_data"
    },
    {
     "name": "stdout",
     "output_type": "stream",
     "text": [
      "Epoch 03 | time 146.5s | train_loss 0.9473 | val_loss 0.8738 | val_acc 0.7358\n"
     ]
    },
    {
     "data": {
      "application/vnd.jupyter.widget-view+json": {
       "model_id": "d203f9663ccb403c8b5eb4ffff3444a5",
       "version_major": 2,
       "version_minor": 0
      },
      "text/plain": [
       "Epoch 4/20 [TRAIN]:   0%|          | 0/312 [00:00<?, ?it/s]"
      ]
     },
     "metadata": {},
     "output_type": "display_data"
    },
    {
     "data": {
      "application/vnd.jupyter.widget-view+json": {
       "model_id": "f4d8aeee952948fab16691148b6e96e5",
       "version_major": 2,
       "version_minor": 0
      },
      "text/plain": [
       "Epoch 4/20 [ VAL ]:   0%|          | 0/7 [00:00<?, ?it/s]"
      ]
     },
     "metadata": {},
     "output_type": "display_data"
    },
    {
     "name": "stdout",
     "output_type": "stream",
     "text": [
      "Epoch 04 | time 166.8s | train_loss 0.9417 | val_loss 0.8576 | val_acc 0.7565\n"
     ]
    },
    {
     "data": {
      "application/vnd.jupyter.widget-view+json": {
       "model_id": "0cdec3a8ee6f4e21bfc6fd058e69fce2",
       "version_major": 2,
       "version_minor": 0
      },
      "text/plain": [
       "Epoch 5/20 [TRAIN]:   0%|          | 0/312 [00:00<?, ?it/s]"
      ]
     },
     "metadata": {},
     "output_type": "display_data"
    },
    {
     "data": {
      "application/vnd.jupyter.widget-view+json": {
       "model_id": "18c4d8fdf3e14eac97d92cd31b9284d5",
       "version_major": 2,
       "version_minor": 0
      },
      "text/plain": [
       "Epoch 5/20 [ VAL ]:   0%|          | 0/7 [00:00<?, ?it/s]"
      ]
     },
     "metadata": {},
     "output_type": "display_data"
    },
    {
     "name": "stdout",
     "output_type": "stream",
     "text": [
      "Epoch 05 | time 266.7s | train_loss 0.9415 | val_loss 0.8694 | val_acc 0.7668\n"
     ]
    },
    {
     "data": {
      "application/vnd.jupyter.widget-view+json": {
       "model_id": "bb9765e778ca4961b1bda1334776feec",
       "version_major": 2,
       "version_minor": 0
      },
      "text/plain": [
       "Epoch 6/20 [TRAIN]:   0%|          | 0/312 [00:00<?, ?it/s]"
      ]
     },
     "metadata": {},
     "output_type": "display_data"
    },
    {
     "data": {
      "application/vnd.jupyter.widget-view+json": {
       "model_id": "3b40b8723b2341619953570164370114",
       "version_major": 2,
       "version_minor": 0
      },
      "text/plain": [
       "Epoch 6/20 [ VAL ]:   0%|          | 0/7 [00:00<?, ?it/s]"
      ]
     },
     "metadata": {},
     "output_type": "display_data"
    },
    {
     "name": "stdout",
     "output_type": "stream",
     "text": [
      "Epoch 06 | time 174.6s | train_loss 0.9328 | val_loss 0.8656 | val_acc 0.7668\n"
     ]
    },
    {
     "data": {
      "application/vnd.jupyter.widget-view+json": {
       "model_id": "fcf8b7910a56495699045d6494a7b47b",
       "version_major": 2,
       "version_minor": 0
      },
      "text/plain": [
       "Epoch 7/20 [TRAIN]:   0%|          | 0/312 [00:00<?, ?it/s]"
      ]
     },
     "metadata": {},
     "output_type": "display_data"
    },
    {
     "data": {
      "application/vnd.jupyter.widget-view+json": {
       "model_id": "0cde5fbd236448eaa7033623c72a76a8",
       "version_major": 2,
       "version_minor": 0
      },
      "text/plain": [
       "Epoch 7/20 [ VAL ]:   0%|          | 0/7 [00:00<?, ?it/s]"
      ]
     },
     "metadata": {},
     "output_type": "display_data"
    },
    {
     "name": "stdout",
     "output_type": "stream",
     "text": [
      "Epoch 07 | time 145.5s | train_loss 0.9299 | val_loss 0.8790 | val_acc 0.7668\n"
     ]
    },
    {
     "data": {
      "application/vnd.jupyter.widget-view+json": {
       "model_id": "a6ade3478ba9458b91e869cd56eb6bbe",
       "version_major": 2,
       "version_minor": 0
      },
      "text/plain": [
       "Epoch 8/20 [TRAIN]:   0%|          | 0/312 [00:00<?, ?it/s]"
      ]
     },
     "metadata": {},
     "output_type": "display_data"
    },
    {
     "data": {
      "application/vnd.jupyter.widget-view+json": {
       "model_id": "470058f698ca48dd91aaea81190d84fe",
       "version_major": 2,
       "version_minor": 0
      },
      "text/plain": [
       "Epoch 8/20 [ VAL ]:   0%|          | 0/7 [00:00<?, ?it/s]"
      ]
     },
     "metadata": {},
     "output_type": "display_data"
    },
    {
     "name": "stdout",
     "output_type": "stream",
     "text": [
      "Epoch 08 | time 146.2s | train_loss 0.9272 | val_loss 0.8880 | val_acc 0.7668\n"
     ]
    },
    {
     "data": {
      "application/vnd.jupyter.widget-view+json": {
       "model_id": "7bab430f2a514ce7aadaf8a540935afd",
       "version_major": 2,
       "version_minor": 0
      },
      "text/plain": [
       "Epoch 9/20 [TRAIN]:   0%|          | 0/312 [00:00<?, ?it/s]"
      ]
     },
     "metadata": {},
     "output_type": "display_data"
    },
    {
     "data": {
      "application/vnd.jupyter.widget-view+json": {
       "model_id": "596a709266ff41f890d2b141ca125d64",
       "version_major": 2,
       "version_minor": 0
      },
      "text/plain": [
       "Epoch 9/20 [ VAL ]:   0%|          | 0/7 [00:00<?, ?it/s]"
      ]
     },
     "metadata": {},
     "output_type": "display_data"
    },
    {
     "name": "stdout",
     "output_type": "stream",
     "text": [
      "Epoch 09 | time 165.5s | train_loss 0.9259 | val_loss 0.8682 | val_acc 0.7617\n"
     ]
    },
    {
     "data": {
      "application/vnd.jupyter.widget-view+json": {
       "model_id": "0d8d69cd0321455cb030af489fefed06",
       "version_major": 2,
       "version_minor": 0
      },
      "text/plain": [
       "Epoch 10/20 [TRAIN]:   0%|          | 0/312 [00:00<?, ?it/s]"
      ]
     },
     "metadata": {},
     "output_type": "display_data"
    },
    {
     "data": {
      "application/vnd.jupyter.widget-view+json": {
       "model_id": "5a1203b4338a471fb2af8e36c5909196",
       "version_major": 2,
       "version_minor": 0
      },
      "text/plain": [
       "Epoch 10/20 [ VAL ]:   0%|          | 0/7 [00:00<?, ?it/s]"
      ]
     },
     "metadata": {},
     "output_type": "display_data"
    },
    {
     "name": "stdout",
     "output_type": "stream",
     "text": [
      "Epoch 10 | time 161.8s | train_loss 0.9277 | val_loss 0.8640 | val_acc 0.7617\n"
     ]
    },
    {
     "data": {
      "application/vnd.jupyter.widget-view+json": {
       "model_id": "db3008e2b7ac43b0b432fe4757417a2b",
       "version_major": 2,
       "version_minor": 0
      },
      "text/plain": [
       "Epoch 11/20 [TRAIN]:   0%|          | 0/312 [00:00<?, ?it/s]"
      ]
     },
     "metadata": {},
     "output_type": "display_data"
    },
    {
     "data": {
      "application/vnd.jupyter.widget-view+json": {
       "model_id": "42ecd4e1cb2545cb9ddafab73ff15f9c",
       "version_major": 2,
       "version_minor": 0
      },
      "text/plain": [
       "Epoch 11/20 [ VAL ]:   0%|          | 0/7 [00:00<?, ?it/s]"
      ]
     },
     "metadata": {},
     "output_type": "display_data"
    },
    {
     "name": "stdout",
     "output_type": "stream",
     "text": [
      "Epoch 11 | time 146.2s | train_loss 0.9236 | val_loss 0.8726 | val_acc 0.7617\n"
     ]
    },
    {
     "data": {
      "application/vnd.jupyter.widget-view+json": {
       "model_id": "bf3c6dd79b804f05819fb127cdf92e63",
       "version_major": 2,
       "version_minor": 0
      },
      "text/plain": [
       "Epoch 12/20 [TRAIN]:   0%|          | 0/312 [00:00<?, ?it/s]"
      ]
     },
     "metadata": {},
     "output_type": "display_data"
    },
    {
     "data": {
      "application/vnd.jupyter.widget-view+json": {
       "model_id": "5b1a7c5bb85e4282b33007b25efa81d6",
       "version_major": 2,
       "version_minor": 0
      },
      "text/plain": [
       "Epoch 12/20 [ VAL ]:   0%|          | 0/7 [00:00<?, ?it/s]"
      ]
     },
     "metadata": {},
     "output_type": "display_data"
    },
    {
     "name": "stdout",
     "output_type": "stream",
     "text": [
      "Epoch 12 | time 145.2s | train_loss 0.9187 | val_loss 0.8683 | val_acc 0.7720\n",
      "No improvement for 10 epochs → Early stopping\n"
     ]
    }
   ],
   "source": [
    "# 4.1 Criterion, Optimizer, Scheduler\n",
    "criterion = nn.CrossEntropyLoss(label_smoothing=0.1)\n",
    "optimizer = optim.Adam(model.parameters(), lr=1e-4, weight_decay=1e-5)\n",
    "scheduler = optim.lr_scheduler.ReduceLROnPlateau(optimizer,\n",
    "    mode='max', factor=0.5, patience=2, verbose=True)\n",
    "\n",
    "# 4.2 Early stopping params\n",
    "import time\n",
    "from tqdm.notebook import tqdm\n",
    "from sklearn.metrics import accuracy_score\n",
    "\n",
    "# Chuẩn bị\n",
    "epochs = 20\n",
    "best_acc = 0.0\n",
    "no_improve = 0\n",
    "patience = 10\n",
    "\n",
    "history = {\n",
    "    'train_loss': [],\n",
    "    'val_loss':   [],\n",
    "    'val_acc':    []\n",
    "}\n",
    "\n",
    "for epoch in range(1, epochs+1):\n",
    "    t0 = time.time()\n",
    "    # ----- TRAIN -----\n",
    "    model.train()\n",
    "    train_losses = []\n",
    "    train_bar = tqdm(train_loader, desc=f\"Epoch {epoch}/{epochs} [TRAIN]\", leave=False)\n",
    "    for imgs, labels in train_bar:\n",
    "        imgs, labels = imgs.to(device), labels.to(device)\n",
    "        optimizer.zero_grad()\n",
    "        outputs = model(imgs)\n",
    "        loss = criterion(outputs, labels)\n",
    "        loss.backward()\n",
    "        optimizer.step()\n",
    "        train_losses.append(loss.item())\n",
    "        train_bar.set_postfix(train_loss=f\"{loss.item():.4f}\")\n",
    "    avg_train = sum(train_losses) / len(train_losses)\n",
    "    \n",
    "    # ----- VALIDATION -----\n",
    "    model.eval()\n",
    "    val_losses = []\n",
    "    all_preds, all_labels = [], []\n",
    "    val_bar = tqdm(val_loader, desc=f\"Epoch {epoch}/{epochs} [ VAL ]\", leave=False)\n",
    "    with torch.no_grad():\n",
    "        for imgs, labels in val_bar:\n",
    "            imgs, labels = imgs.to(device), labels.to(device)\n",
    "            outputs = model(imgs)\n",
    "            loss = criterion(outputs, labels)\n",
    "            val_losses.append(loss.item())\n",
    "            preds = outputs.argmax(dim=1).cpu().tolist()\n",
    "            all_preds.extend(preds)\n",
    "            all_labels.extend(labels.cpu().tolist())\n",
    "            val_bar.set_postfix(val_loss=f\"{loss.item():.4f}\")\n",
    "    avg_val = sum(val_losses) / len(val_losses)\n",
    "    val_acc = accuracy_score(all_labels, all_preds)\n",
    "    \n",
    "    # ----- LOG & EARLY STOPPING -----\n",
    "    history['train_loss'].append(avg_train)\n",
    "    history['val_loss'].append(avg_val)\n",
    "    history['val_acc'].append(val_acc)\n",
    "    \n",
    "    scheduler.step(val_acc)\n",
    "    elapsed = time.time() - t0\n",
    "    print(f\"Epoch {epoch:02d} | time {elapsed:.1f}s | \"\n",
    "          f\"train_loss {avg_train:.4f} | val_loss {avg_val:.4f} | val_acc {val_acc:.4f}\")\n",
    "    \n",
    "    if val_acc > best_acc:\n",
    "        best_acc = val_acc\n",
    "        no_improve = 0\n",
    "        torch.save(model.state_dict(), '../checkpoints/best_finetuned.pth')\n",
    "        print(f\"  ↳ New best model (acc={best_acc:.4f}) saved\")\n",
    "    else:\n",
    "        no_improve += 1\n",
    "        if no_improve >= patience:\n",
    "            print(f\"No improvement for {patience} epochs → Early stopping\")\n",
    "            break\n"
   ]
  },
  {
   "cell_type": "markdown",
   "metadata": {},
   "source": [
    "## 5. Đánh giá & Visualization\n"
   ]
  },
  {
   "cell_type": "code",
   "execution_count": 33,
   "metadata": {},
   "outputs": [
    {
     "data": {
      "image/png": "[encoded data removed]",
      "text/plain": [
       "<Figure size 640x480 with 1 Axes>"
      ]
     },
     "metadata": {},
     "output_type": "display_data"
    },
    {
     "data": {
      "image/png": "[encoded data removed]",
      "text/plain": [
       "<Figure size 640x480 with 1 Axes>"
      ]
     },
     "metadata": {},
     "output_type": "display_data"
    },
    {
     "data": {
      "image/png": "[encoded data removed]",
      "text/plain": [
       "<Figure size 640x480 with 2 Axes>"
      ]
     },
     "metadata": {},
     "output_type": "display_data"
    },
    {
     "name": "stdout",
     "output_type": "stream",
     "text": [
      "Classification Report:\n",
      "\n",
      "              precision    recall  f1-score   support\n",
      "\n",
      "         MEL       0.73      0.52      0.61        21\n",
      "          NV       0.86      0.98      0.91       123\n",
      "         BCC       0.62      0.53      0.57        15\n",
      "       AKIEC       0.20      0.12      0.15         8\n",
      "         BKL       0.41      0.32      0.36        22\n",
      "          DF       0.50      1.00      0.67         1\n",
      "        VASC       1.00      0.33      0.50         3\n",
      "\n",
      "    accuracy                           0.77       193\n",
      "   macro avg       0.62      0.54      0.54       193\n",
      "weighted avg       0.75      0.77      0.75       193\n",
      "\n"
     ]
    }
   ],
   "source": [
    "import matplotlib.pyplot as plt\n",
    "from sklearn.metrics import confusion_matrix, classification_report\n",
    "import numpy as np\n",
    "\n",
    "# 5.1 Loss & Accuracy curves\n",
    "plt.figure()  # Loss curve\n",
    "plt.plot(history['train_loss'], label='Train Loss')\n",
    "plt.plot(history['val_loss'],   label='Val Loss')\n",
    "plt.xlabel('Epoch')\n",
    "plt.ylabel('Loss')\n",
    "plt.legend()\n",
    "plt.title('Train vs Val Loss')\n",
    "plt.savefig('../figures/loss_curve.png')\n",
    "plt.show()\n",
    "\n",
    "plt.figure()  # Accuracy curve\n",
    "plt.plot(history['val_acc'],    label='Val Accuracy')\n",
    "plt.xlabel('Epoch')\n",
    "plt.ylabel('Accuracy')\n",
    "plt.legend()\n",
    "plt.title('Validation Accuracy')\n",
    "plt.savefig('../figures/accuracy_curve.png')\n",
    "plt.show()\n",
    "\n",
    "# 5.2 Confusion Matrix\n",
    "cm = confusion_matrix(all_labels, all_preds)\n",
    "plt.figure()\n",
    "plt.imshow(cm)\n",
    "plt.title('Confusion Matrix')\n",
    "plt.xlabel('Predicted')\n",
    "plt.ylabel('True')\n",
    "plt.colorbar()\n",
    "# Add ticks\n",
    "classes = ['MEL','NV','BCC','AKIEC','BKL','DF','VASC']\n",
    "plt.xticks(np.arange(len(classes)), classes, rotation=45)\n",
    "plt.yticks(np.arange(len(classes)), classes)\n",
    "plt.tight_layout()\n",
    "plt.savefig('../figures/confusion_matrix.png')\n",
    "plt.show()\n",
    "\n",
    "# 5.3 Classification Report\n",
    "print(\"Classification Report:\\n\")\n",
    "print(classification_report(all_labels, all_preds, target_names=classes))\n",
    "# save report to file\n",
    "with open('../figures/classification_report.txt', 'w') as f:\n",
    "    f.write(classification_report(all_labels, all_preds, target_names=classes))"
   ]
  },
  {
   "cell_type": "markdown",
   "metadata": {},
   "source": [
    "## 6. Kết luận\n",
    "- **Best Val Acc:** {best_acc:.4f}\n",
    "- Mô tả ngắn gọn: Pretrain SimCLR giúp tăng ~X% so với training từ đầu.\n",
    "- Đề xuất hướng mở rộng: fine-tune encoder, data augmentation, ...\n"
   ]
  }
 ],
 "metadata": {
  "kernelspec": {
   "display_name": "MLF-CoDA-Project",
   "language": "python",
   "name": "python3"
  },
  "language_info": {
   "codemirror_mode": {
    "name": "ipython",
    "version": 3
   },
   "file_extension": ".py",
   "mimetype": "text/x-python",
   "name": "python",
   "nbconvert_exporter": "python",
   "pygments_lexer": "ipython3",
   "version": "3.12.9"
  }
 },
 "nbformat": 4,
 "nbformat_minor": 2
}
